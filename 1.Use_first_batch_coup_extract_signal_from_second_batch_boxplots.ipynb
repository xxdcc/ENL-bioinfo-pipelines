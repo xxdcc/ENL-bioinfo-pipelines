{
 "cells": [
  {
   "cell_type": "code",
   "execution_count": 13,
   "metadata": {},
   "outputs": [],
   "source": [
    "import pandas as pd\n",
    "import numpy as np\n",
    "import glob\n",
    "import os"
   ]
  },
  {
   "cell_type": "code",
   "execution_count": 14,
   "metadata": {},
   "outputs": [],
   "source": [
    "import matplotlib.pyplot as plt"
   ]
  },
  {
   "cell_type": "code",
   "execution_count": 15,
   "metadata": {},
   "outputs": [],
   "source": [
    "%matplotlib inline"
   ]
  },
  {
   "cell_type": "code",
   "execution_count": null,
   "metadata": {},
   "outputs": [],
   "source": [
    "#!mkdir -p ./res_second_batch_using_first_batch_peak"
   ]
  },
  {
   "cell_type": "code",
   "execution_count": 53,
   "metadata": {},
   "outputs": [
    {
     "name": "stdout",
     "output_type": "stream",
     "text": [
      "/home/jlyu/xc3/experiment/ENL2/Chip-seq_analysis/no_spike_in/re_do_mapping_with_lambda/Run_On_Lvjie/res_second_batch_using_first_batch_peak/res_second_batch_using_first_batch_peak\r\n"
     ]
    }
   ],
   "source": [
    "os.chdir('/home/jlyu/xc3/experiment/ENL2/Chip-seq_analysis/no_spike_in/re_do_mapping_with_lambda/Run_On_Lvjie/res_second_batch_using_first_batch_peak')"
   ]
  },
  {
   "cell_type": "code",
   "execution_count": 54,
   "metadata": {},
   "outputs": [
    {
     "name": "stdout",
     "output_type": "stream",
     "text": [
      "293.all.1_2.bed\r\n",
      "293.all.1_2.counts.txt\r\n",
      "293.all.1_2.new.heat.bed\r\n",
      "293.all.1_2.str.bed\r\n",
      "293.all.1_5.bed\r\n",
      "293.all.1_5.counts.txt\r\n",
      "293.all.1_5.new.heat.bed\r\n",
      "293.all.1_5.str.bed\r\n",
      "PeakMatrix_293_F_ENL_B_co-UP_genes.1_5.gz\r\n",
      "PeakMatrix_293_F_ENL_B_co-UP_genes.gz\r\n",
      "PeakMatrix_293_F_ENL_C_co-UP_genes.1_5.gz\r\n",
      "PeakMatrix_293_F_ENL_C_co-UP_genes.gz\r\n",
      "PeakMatrix_293_F_ENL_co-UP_genes.gz\r\n",
      "PeakMatrix_293_F_T1_C_co-UP_genes.1_5.gz\r\n",
      "PeakMatrix_293_F_T1_C_co-UP_genes.gz\r\n",
      "PeakMatrix_293_F_T1_Y78A_co-UP_genes.1_5.gz\r\n",
      "PeakMatrix_293_F_T1_Y78A_co-UP_genes.gz\r\n",
      "PeakMatrix_293_F_T2_B_co-UP_genes.1_5.gz\r\n",
      "PeakMatrix_293_F_T2_B_co-UP_genes.gz\r\n",
      "PeakMatrix_293_F_T2_Y78A_co-UP_genes.1_5.gz\r\n",
      "PeakMatrix_293_F_T2_Y78A_co-UP_genes.gz\r\n",
      "PeakMatrix_293_F_T3_B_co-UP_genes.1_5.gz\r\n",
      "PeakMatrix_293_F_T3_B_co-UP_genes.gz\r\n",
      "PeakMatrix_293_F_T3_Y78A_co-UP_genes.1_5.gz\r\n",
      "PeakMatrix_293_F_T3_Y78A_co-UP_genes.gz\r\n",
      "PeakMatrix_293_F_Y78A_B_co-UP_genes.1_5.gz\r\n",
      "PeakMatrix_293_F_Y78A_B_co-UP_genes.gz\r\n",
      "T1.pdf\r\n",
      "T1_1.5.pdf\r\n",
      "T1_more.pdf\r\n",
      "T1_more_1.5.pdf\r\n",
      "T2.pdf\r\n",
      "T2_1.5.pdf\r\n",
      "T2_more.pdf\r\n",
      "T2_more_1.5.pdf\r\n",
      "T3.pdf\r\n",
      "T3_1.5.pdf\r\n",
      "T3_more.pdf\r\n",
      "T3_more_1.5.pdf\r\n",
      "avg_sig_0.txt\r\n",
      "avg_sig_1.txt\r\n",
      "avg_sig_2.txt\r\n",
      "avg_sig_3.txt\r\n",
      "avg_sig_4.txt\r\n",
      "avg_sig_5.txt\r\n",
      "avg_sig_6.txt\r\n",
      "avg_sig_7.txt\r\n",
      "avg_sig_8.txt\r\n",
      "res_second_batch_using_first_batch_peak\r\n",
      "second_batch_T1.txt\r\n",
      "second_batch_T2.txt\r\n",
      "second_batch_T3.txt\r\n",
      "t1_more_1.5.pdf\r\n"
     ]
    }
   ],
   "source": [
    "!ls "
   ]
  },
  {
   "cell_type": "markdown",
   "metadata": {},
   "source": [
    "    > Heatmap 1: WT-C, T1-C, Y78A-B, T1_Y78A, subtract (WT-C, T1-C), subtract (WT-C, Y78A-B), subtract (WT-C, T1_Y78A), and subtract (T1_Y78A, T1-C)\n",
    "    > Heatmap 2: WT-B, T2-B, Y78A-B, T2_Y78A, subtract (WT-B, T2-B), subtract (WT-B, Y78A-B), subtract (WT-B, T2_Y78A), and subtract (T2_Y78A, T2-B)\n",
    "    > Heatmap 3: WT-B, T3-B, Y78A-B, T3_Y78A, subtract (WT-B, T3-B), subtract (WT-B, Y78A-B), subtract (WT-B, T3_Y78A), and subtract (T3_Y78A, T3-B)\n"
   ]
  },
  {
   "cell_type": "markdown",
   "metadata": {},
   "source": [
    "### co up peaks"
   ]
  },
  {
   "cell_type": "code",
   "execution_count": 22,
   "metadata": {},
   "outputs": [
    {
     "name": "stdout",
     "output_type": "stream",
     "text": [
      "awk 'BEGIN{OFS=\"\\t\"}{if (NR>1){print $1,$2,$3,NR-2,\".\",\"+\"}}' /home/jlyu/xc3/experiment/ENL2/Chip-seq_analysis/no_spike_in/re_do_mapping_with_lambda/res_heatmap_coup_peaks/293.all.1_2.sig.anno.txt > 293.all.1_2.new.heat.bed\n",
      "awk 'BEGIN{OFS=\"\\t\"}{if (NR>1){print $1,$2,$3,NR-2,\".\",\"+\"}}' /home/jlyu/xc3/experiment/ENL2/Chip-seq_analysis/no_spike_in/re_do_mapping_with_lambda/res_heatmap_coup_peaks/293.all.1_5.sig.anno.txt > 293.all.1_5.new.heat.bed\n"
     ]
    }
   ],
   "source": [
    "# previous 293 all co up peaks\n",
    "coup_path = '/home/jlyu/xc3/experiment/ENL2/Chip-seq_analysis/no_spike_in/re_do_mapping_with_lambda/res_heatmap_coup_peaks/'\n",
    "ths = [1.2, 1.5]\n",
    "names = ['1_2','1_5']\n",
    "# names = ['1_2']\n",
    "for name in names:\n",
    "    Bed = f'{coup_path}293.all.{name}.sig.anno.txt'\n",
    "    outBed = f'293.all.{name}.new.heat.bed'\n",
    "    line = \"awk 'BEGIN{OFS=\\\"\\\\t\\\"}{if (NR>1){print $1,$2,$3,NR-2,\\\".\\\",\\\"+\\\"}}'\" + f' {Bed} > {outBed}'\n",
    "    print(line)\n",
    "    os.system(line)"
   ]
  },
  {
   "cell_type": "code",
   "execution_count": 33,
   "metadata": {},
   "outputs": [
    {
     "name": "stdout",
     "output_type": "stream",
     "text": [
      "chr15\t96872571\t96885658\t0\t.\t+\n",
      "chr7\t5457629\t5470124\t1\t.\t+\n",
      "chr6\t1608510\t1616027\t2\t.\t+\n",
      "chr17\t79368489\t79375603\t3\t.\t+\n",
      "chr12\t12869276\t12879696\t4\t.\t+\n",
      "chr11\t65186288\t65204652\t5\t.\t+\n",
      "chr7\t27197889\t27240775\t6\t.\t+\n",
      "chr11\t65264641\t65277345\t7\t.\t+\n",
      "chr18\t19747704\t19753749\t8\t.\t+\n",
      "chr6\t32934633\t32953286\t9\t.\t+\n",
      "257 293.all.1_2.new.heat.bed\n"
     ]
    }
   ],
   "source": [
    "# !head $Bed\n",
    "!head 293.all.1_2.new.heat.bed\n",
    "name\n",
    "!wc -l 293.all.1_2.new.heat.bed "
   ]
  },
  {
   "cell_type": "markdown",
   "metadata": {},
   "source": [
    "### Use co up peaks to extract signal from the second batch"
   ]
  },
  {
   "cell_type": "code",
   "execution_count": 25,
   "metadata": {},
   "outputs": [
    {
     "name": "stdout",
     "output_type": "stream",
     "text": [
      "293_ENL_B_treat.nsp.bw\t  293_T2_C_treat.nsp.bw     293_Y78A_B_treat.nsp.bw\r\n",
      "293_ENL_C_treat.nsp.bw\t  293_T2_Y78A_treat.nsp.bw  293_Y78A_C_treat.nsp.bw\r\n",
      "293_T1_B_treat.nsp.bw\t  293_T3_B_treat.nsp.bw     293_input.nsp.bw\r\n",
      "293_T1_C_treat.nsp.bw\t  293_T3_C_treat.nsp.bw     293_vec_B_C_treat.nsp.bw\r\n",
      "293_T1_Y78A_treat.nsp.bw  293_T3_Y78A_treat.nsp.bw\r\n",
      "293_T2_B_treat.nsp.bw\t  293_T4_treat.nsp.bw\r\n"
     ]
    }
   ],
   "source": [
    "# first batch bw files\n",
    "bwpath = '/mount/weili2/lilab/xc3/ENL2/ChIP/bw_nsp/'\n",
    "# second batch bw files\n",
    "bwpath = '/mount/weili2/lilab/xc3/ENL2/ChIP/second_batch/nsp/bw/'\n",
    "!ls $bwpath"
   ]
  },
  {
   "cell_type": "code",
   "execution_count": 14,
   "metadata": {},
   "outputs": [
    {
     "name": "stdout",
     "output_type": "stream",
     "text": [
      "/mount/weili2/lilab/xc3/ENL2/ChIP/second_batch/nsp/bw/293_ENL_C_treat.nsp.bw\n",
      "computeMatrix reference-point --referencePoint center -S /mount/weili2/lilab/xc3/ENL2/ChIP/second_batch/nsp/bw/293_ENL_C_treat.nsp.bw -R 293.all.1_5.new.heat.bed --beforeRegionStartLength 5000 --afterRegionStartLength 5000 --binSize 100 --skipZeros --missingDataAsZero -o PeakMatrix_293_F_ENL_C_co-UP_genes.1_5.gz -p 8\n",
      "****\n",
      "\n",
      "/mount/weili2/lilab/xc3/ENL2/ChIP/second_batch/nsp/bw/293_T1_C_treat.nsp.bw\n",
      "computeMatrix reference-point --referencePoint center -S /mount/weili2/lilab/xc3/ENL2/ChIP/second_batch/nsp/bw/293_T1_C_treat.nsp.bw -R 293.all.1_5.new.heat.bed --beforeRegionStartLength 5000 --afterRegionStartLength 5000 --binSize 100 --skipZeros --missingDataAsZero -o PeakMatrix_293_F_T1_C_co-UP_genes.1_5.gz -p 8\n",
      "****\n",
      "\n",
      "/mount/weili2/lilab/xc3/ENL2/ChIP/second_batch/nsp/bw/293_Y78A_B_treat.nsp.bw\n",
      "computeMatrix reference-point --referencePoint center -S /mount/weili2/lilab/xc3/ENL2/ChIP/second_batch/nsp/bw/293_Y78A_B_treat.nsp.bw -R 293.all.1_5.new.heat.bed --beforeRegionStartLength 5000 --afterRegionStartLength 5000 --binSize 100 --skipZeros --missingDataAsZero -o PeakMatrix_293_F_Y78A_B_co-UP_genes.1_5.gz -p 8\n",
      "****\n",
      "\n",
      "/mount/weili2/lilab/xc3/ENL2/ChIP/second_batch/nsp/bw/293_T1_Y78A_treat.nsp.bw\n",
      "computeMatrix reference-point --referencePoint center -S /mount/weili2/lilab/xc3/ENL2/ChIP/second_batch/nsp/bw/293_T1_Y78A_treat.nsp.bw -R 293.all.1_5.new.heat.bed --beforeRegionStartLength 5000 --afterRegionStartLength 5000 --binSize 100 --skipZeros --missingDataAsZero -o PeakMatrix_293_F_T1_Y78A_co-UP_genes.1_5.gz -p 8\n",
      "****\n",
      "\n",
      "/mount/weili2/lilab/xc3/ENL2/ChIP/second_batch/nsp/bw/293_ENL_B_treat.nsp.bw\n",
      "computeMatrix reference-point --referencePoint center -S /mount/weili2/lilab/xc3/ENL2/ChIP/second_batch/nsp/bw/293_ENL_B_treat.nsp.bw -R 293.all.1_5.new.heat.bed --beforeRegionStartLength 5000 --afterRegionStartLength 5000 --binSize 100 --skipZeros --missingDataAsZero -o PeakMatrix_293_F_ENL_B_co-UP_genes.1_5.gz -p 8\n",
      "****\n",
      "\n",
      "/mount/weili2/lilab/xc3/ENL2/ChIP/second_batch/nsp/bw/293_T2_B_treat.nsp.bw\n",
      "computeMatrix reference-point --referencePoint center -S /mount/weili2/lilab/xc3/ENL2/ChIP/second_batch/nsp/bw/293_T2_B_treat.nsp.bw -R 293.all.1_5.new.heat.bed --beforeRegionStartLength 5000 --afterRegionStartLength 5000 --binSize 100 --skipZeros --missingDataAsZero -o PeakMatrix_293_F_T2_B_co-UP_genes.1_5.gz -p 8\n",
      "****\n",
      "\n",
      "/mount/weili2/lilab/xc3/ENL2/ChIP/second_batch/nsp/bw/293_T2_Y78A_treat.nsp.bw\n",
      "computeMatrix reference-point --referencePoint center -S /mount/weili2/lilab/xc3/ENL2/ChIP/second_batch/nsp/bw/293_T2_Y78A_treat.nsp.bw -R 293.all.1_5.new.heat.bed --beforeRegionStartLength 5000 --afterRegionStartLength 5000 --binSize 100 --skipZeros --missingDataAsZero -o PeakMatrix_293_F_T2_Y78A_co-UP_genes.1_5.gz -p 8\n",
      "****\n",
      "\n",
      "/mount/weili2/lilab/xc3/ENL2/ChIP/second_batch/nsp/bw/293_T3_B_treat.nsp.bw\n",
      "computeMatrix reference-point --referencePoint center -S /mount/weili2/lilab/xc3/ENL2/ChIP/second_batch/nsp/bw/293_T3_B_treat.nsp.bw -R 293.all.1_5.new.heat.bed --beforeRegionStartLength 5000 --afterRegionStartLength 5000 --binSize 100 --skipZeros --missingDataAsZero -o PeakMatrix_293_F_T3_B_co-UP_genes.1_5.gz -p 8\n",
      "****\n",
      "\n",
      "/mount/weili2/lilab/xc3/ENL2/ChIP/second_batch/nsp/bw/293_T3_Y78A_treat.nsp.bw\n",
      "computeMatrix reference-point --referencePoint center -S /mount/weili2/lilab/xc3/ENL2/ChIP/second_batch/nsp/bw/293_T3_Y78A_treat.nsp.bw -R 293.all.1_5.new.heat.bed --beforeRegionStartLength 5000 --afterRegionStartLength 5000 --binSize 100 --skipZeros --missingDataAsZero -o PeakMatrix_293_F_T3_Y78A_co-UP_genes.1_5.gz -p 8\n",
      "****\n",
      "\n"
     ]
    }
   ],
   "source": [
    "exp = '293'\n",
    "samples = [\"ENL_C\", \"T1_C\", \"Y78A_B\", \"T1_Y78A\",\n",
    "           \"ENL_B\", \"T2_B\", \"T2_Y78A\", \"T3_B\", \n",
    "           \"T3_Y78A\"]\n",
    "for sample in samples:\n",
    "    bwfile = glob.glob(bwpath + exp + '*' + sample + '*.bw')[0]\n",
    "#     peakBed = \"293.all.1_2.new.heat.bed\"\n",
    "    peakBed = \"293.all.1_5.new.heat.bed\"\n",
    "    print(bwfile)\n",
    "    line = f'computeMatrix reference-point --referencePoint center -S {bwfile} -R {peakBed} --beforeRegionStartLength 5000 --afterRegionStartLength 5000 --binSize 100 --skipZeros --missingDataAsZero -o PeakMatrix_293_F_{sample}_co-UP_genes.1_5.gz -p 8'\n",
    "    print(line + '\\n****\\n')\n",
    "    os.system(line)"
   ]
  },
  {
   "cell_type": "markdown",
   "metadata": {},
   "source": [
    "## use the bcm http server to download the data"
   ]
  },
  {
   "cell_type": "code",
   "execution_count": 7,
   "metadata": {},
   "outputs": [],
   "source": [
    "def generate_outer_links(files):\n",
    "    public_url_pre = \"http://dldcc-web.brc.bcm.edu/lilab/xc3/ENL2/ChIP/tmp/\"\n",
    "    public_url_folder = \"/mount/weili2/lilab/xc3/ENL2/ChIP/tmp/\"\n",
    "    for ifile in files:\n",
    "        line = f\"cp {ifile} {public_url_folder}{ifile}\"\n",
    "        print(line)\n",
    "        os.system(line)\n",
    "        print(f'{public_url_pre}{ifile}')"
   ]
  },
  {
   "cell_type": "code",
   "execution_count": 58,
   "metadata": {},
   "outputs": [
    {
     "data": {
      "text/plain": [
       "'/home/jlyu/xc3/experiment/ENL2/Chip-seq_analysis/no_spike_in/re_do_mapping_with_lambda/Run_On_Lvjie/res_second_batch_using_first_batch_peak/'"
      ]
     },
     "execution_count": 58,
     "metadata": {},
     "output_type": "execute_result"
    }
   ],
   "source": [
    "public_url_pre = \"http://dldcc-web.brc.bcm.edu/lilab/xc3/ENL2/ChIP/tmp/\"\n",
    "public_url_folder = \"/mount/weili2/lilab/xc3/ENL2/ChIP/tmp/\"\n",
    "work_path = \"/home/jlyu/xc3/experiment/ENL2/Chip-seq_analysis/no_spike_in/re_do_mapping_with_lambda/Run_On_Lvjie/res_second_batch_using_first_batch_peak/\"\n",
    "files = glob.glob('*1_5.gz')\n",
    "work_path"
   ]
  },
  {
   "cell_type": "code",
   "execution_count": 21,
   "metadata": {},
   "outputs": [
    {
     "name": "stdout",
     "output_type": "stream",
     "text": [
      "cp /home/jlyu/xc3/experiment/ENL2/Chip-seq_analysis/no_spike_in/re_do_mapping_with_lambda/Run_On_Lvjie/res_second_batch_using_first_batch_peak/PeakMatrix_293_F_ENL_C_co-UP_genes.1_5.gz /mount/weili2/lilab/xc3/ENL2/ChIP/tmp/PeakMatrix_293_F_ENL_C_co-UP_genes.1_5.gz\n",
      "http://dldcc-web.brc.bcm.edu/lilab/xc3/ENL2/ChIP/tmp/PeakMatrix_293_F_ENL_C_co-UP_genes.1_5.gz\n",
      "cp /home/jlyu/xc3/experiment/ENL2/Chip-seq_analysis/no_spike_in/re_do_mapping_with_lambda/Run_On_Lvjie/res_second_batch_using_first_batch_peak/PeakMatrix_293_F_T1_C_co-UP_genes.1_5.gz /mount/weili2/lilab/xc3/ENL2/ChIP/tmp/PeakMatrix_293_F_T1_C_co-UP_genes.1_5.gz\n",
      "http://dldcc-web.brc.bcm.edu/lilab/xc3/ENL2/ChIP/tmp/PeakMatrix_293_F_T1_C_co-UP_genes.1_5.gz\n",
      "cp /home/jlyu/xc3/experiment/ENL2/Chip-seq_analysis/no_spike_in/re_do_mapping_with_lambda/Run_On_Lvjie/res_second_batch_using_first_batch_peak/PeakMatrix_293_F_Y78A_B_co-UP_genes.1_5.gz /mount/weili2/lilab/xc3/ENL2/ChIP/tmp/PeakMatrix_293_F_Y78A_B_co-UP_genes.1_5.gz\n",
      "http://dldcc-web.brc.bcm.edu/lilab/xc3/ENL2/ChIP/tmp/PeakMatrix_293_F_Y78A_B_co-UP_genes.1_5.gz\n",
      "cp /home/jlyu/xc3/experiment/ENL2/Chip-seq_analysis/no_spike_in/re_do_mapping_with_lambda/Run_On_Lvjie/res_second_batch_using_first_batch_peak/PeakMatrix_293_F_T1_Y78A_co-UP_genes.1_5.gz /mount/weili2/lilab/xc3/ENL2/ChIP/tmp/PeakMatrix_293_F_T1_Y78A_co-UP_genes.1_5.gz\n",
      "http://dldcc-web.brc.bcm.edu/lilab/xc3/ENL2/ChIP/tmp/PeakMatrix_293_F_T1_Y78A_co-UP_genes.1_5.gz\n",
      "cp /home/jlyu/xc3/experiment/ENL2/Chip-seq_analysis/no_spike_in/re_do_mapping_with_lambda/Run_On_Lvjie/res_second_batch_using_first_batch_peak/PeakMatrix_293_F_ENL_B_co-UP_genes.1_5.gz /mount/weili2/lilab/xc3/ENL2/ChIP/tmp/PeakMatrix_293_F_ENL_B_co-UP_genes.1_5.gz\n",
      "http://dldcc-web.brc.bcm.edu/lilab/xc3/ENL2/ChIP/tmp/PeakMatrix_293_F_ENL_B_co-UP_genes.1_5.gz\n",
      "cp /home/jlyu/xc3/experiment/ENL2/Chip-seq_analysis/no_spike_in/re_do_mapping_with_lambda/Run_On_Lvjie/res_second_batch_using_first_batch_peak/PeakMatrix_293_F_T2_B_co-UP_genes.1_5.gz /mount/weili2/lilab/xc3/ENL2/ChIP/tmp/PeakMatrix_293_F_T2_B_co-UP_genes.1_5.gz\n",
      "http://dldcc-web.brc.bcm.edu/lilab/xc3/ENL2/ChIP/tmp/PeakMatrix_293_F_T2_B_co-UP_genes.1_5.gz\n",
      "cp /home/jlyu/xc3/experiment/ENL2/Chip-seq_analysis/no_spike_in/re_do_mapping_with_lambda/Run_On_Lvjie/res_second_batch_using_first_batch_peak/PeakMatrix_293_F_T2_Y78A_co-UP_genes.1_5.gz /mount/weili2/lilab/xc3/ENL2/ChIP/tmp/PeakMatrix_293_F_T2_Y78A_co-UP_genes.1_5.gz\n",
      "http://dldcc-web.brc.bcm.edu/lilab/xc3/ENL2/ChIP/tmp/PeakMatrix_293_F_T2_Y78A_co-UP_genes.1_5.gz\n",
      "cp /home/jlyu/xc3/experiment/ENL2/Chip-seq_analysis/no_spike_in/re_do_mapping_with_lambda/Run_On_Lvjie/res_second_batch_using_first_batch_peak/PeakMatrix_293_F_T3_B_co-UP_genes.1_5.gz /mount/weili2/lilab/xc3/ENL2/ChIP/tmp/PeakMatrix_293_F_T3_B_co-UP_genes.1_5.gz\n",
      "http://dldcc-web.brc.bcm.edu/lilab/xc3/ENL2/ChIP/tmp/PeakMatrix_293_F_T3_B_co-UP_genes.1_5.gz\n",
      "cp /home/jlyu/xc3/experiment/ENL2/Chip-seq_analysis/no_spike_in/re_do_mapping_with_lambda/Run_On_Lvjie/res_second_batch_using_first_batch_peak/PeakMatrix_293_F_T3_Y78A_co-UP_genes.1_5.gz /mount/weili2/lilab/xc3/ENL2/ChIP/tmp/PeakMatrix_293_F_T3_Y78A_co-UP_genes.1_5.gz\n",
      "http://dldcc-web.brc.bcm.edu/lilab/xc3/ENL2/ChIP/tmp/PeakMatrix_293_F_T3_Y78A_co-UP_genes.1_5.gz\n",
      "9\n"
     ]
    }
   ],
   "source": [
    "for ifile in files:\n",
    "    source = work_path + ifile\n",
    "    symbol = public_url_folder + ifile\n",
    "    line = f\"cp {source} {public_url_folder}{ifile}\"\n",
    "    print(line)\n",
    "    os.system(line)\n",
    "    print(f'{public_url_pre}{ifile}')\n",
    "    \n",
    "print(len(files))    "
   ]
  },
  {
   "cell_type": "code",
   "execution_count": 122,
   "metadata": {},
   "outputs": [
    {
     "ename": "TypeError",
     "evalue": "'sep' is an invalid keyword argument for this function",
     "output_type": "error",
     "traceback": [
      "\u001b[0;31m---------------------------------------------------------------------------\u001b[0m",
      "\u001b[0;31mTypeError\u001b[0m                                 Traceback (most recent call last)",
      "\u001b[0;32m<ipython-input-122-4b9659f2b60a>\u001b[0m in \u001b[0;36m<module>\u001b[0;34m()\u001b[0m\n\u001b[0;32m----> 1\u001b[0;31m \u001b[0;32mwith\u001b[0m \u001b[0mopen\u001b[0m\u001b[0;34m(\u001b[0m\u001b[0;34m'ucsc_bws.txt'\u001b[0m\u001b[0;34m,\u001b[0m \u001b[0msep\u001b[0m\u001b[0;34m=\u001b[0m\u001b[0;34m'\\t'\u001b[0m\u001b[0;34m)\u001b[0m \u001b[0;32mas\u001b[0m \u001b[0mf\u001b[0m\u001b[0;34m:\u001b[0m\u001b[0;34m\u001b[0m\u001b[0m\n\u001b[0m\u001b[1;32m      2\u001b[0m     \u001b[0;32mfor\u001b[0m \u001b[0mifile\u001b[0m \u001b[0;32min\u001b[0m \u001b[0mfiles\u001b[0m\u001b[0;34m:\u001b[0m\u001b[0;34m\u001b[0m\u001b[0m\n\u001b[1;32m      3\u001b[0m         \u001b[0msource\u001b[0m \u001b[0;34m=\u001b[0m \u001b[0mwork_path\u001b[0m \u001b[0;34m+\u001b[0m \u001b[0mifile\u001b[0m\u001b[0;34m\u001b[0m\u001b[0m\n\u001b[1;32m      4\u001b[0m         \u001b[0msymbol\u001b[0m \u001b[0;34m=\u001b[0m \u001b[0mpublic_url_folder\u001b[0m \u001b[0;34m+\u001b[0m \u001b[0mifile\u001b[0m\u001b[0;34m\u001b[0m\u001b[0m\n\u001b[1;32m      5\u001b[0m         \u001b[0mline\u001b[0m \u001b[0;34m=\u001b[0m \u001b[0;34mf\"ln -s {source} {public_url_folder}{ifile}\"\u001b[0m\u001b[0;34m\u001b[0m\u001b[0m\n",
      "\u001b[0;31mTypeError\u001b[0m: 'sep' is an invalid keyword argument for this function"
     ]
    }
   ],
   "source": [
    "with open('ucsc_bws.txt', 'w') as f:\n",
    "    for ifile in files:\n",
    "        source = work_path + ifile\n",
    "        symbol = public_url_folder + ifile\n",
    "        line = f\"ln -s {source} {public_url_folder}{ifile}\"\n",
    "        print(line)\n",
    "        os.system(line)\n",
    "        out_url = f'{public_url_pre}{ifile}'\n",
    "        print(out_url)\n",
    "        out_name = ifile.split('.bw')[0]\n",
    "        out_line = f'track type=bigWig name={out_name} db=hg19 windowingFunction=maximum viewLimits=0:500 autoScale=off visibility=full bigDataUrl={out_url} '\n",
    "        f.write(out_line + '\\n')\n",
    "        "
   ]
  },
  {
   "cell_type": "markdown",
   "metadata": {},
   "source": [
    "## generate the co up heatmap \n",
    "\n",
    "    > Heatmap 1: WT-C, T1-C, Y78A-B, T1_Y78A, subtract (WT-C, T1-C), subtract (WT-C, Y78A-B), subtract (WT-C, T1_Y78A), and subtract (T1_Y78A, T1-C)\n",
    "    > Heatmap 2: WT-B, T2-B, Y78A-B, T2_Y78A, subtract (WT-B, T2-B), subtract (WT-B, Y78A-B), subtract (WT-B, T2_Y78A), and subtract (T2_Y78A, T2-B)\n",
    "    > Heatmap 3: WT-B, T3-B, Y78A-B, T3_Y78A, subtract (WT-B, T3-B), subtract (WT-B, Y78A-B), subtract (WT-B, T3_Y78A), and subtract (T3_Y78A, T3-B)"
   ]
  },
  {
   "cell_type": "markdown",
   "metadata": {},
   "source": [
    "## Download the data into local disk"
   ]
  },
  {
   "cell_type": "code",
   "execution_count": 10,
   "metadata": {},
   "outputs": [
    {
     "name": "stdout",
     "output_type": "stream",
     "text": [
      "cp 293.all.1_2.counts.txt /mount/weili2/lilab/xc3/ENL2/ChIP/tmp/293.all.1_2.counts.txt\n",
      "http://dldcc-web.brc.bcm.edu/lilab/xc3/ENL2/ChIP/tmp/293.all.1_2.counts.txt\n",
      "cp 293.all.1_5.counts.txt /mount/weili2/lilab/xc3/ENL2/ChIP/tmp/293.all.1_5.counts.txt\n",
      "http://dldcc-web.brc.bcm.edu/lilab/xc3/ENL2/ChIP/tmp/293.all.1_5.counts.txt\n"
     ]
    }
   ],
   "source": [
    "files = glob.glob('293.all*.counts.txt')\n",
    "generate_outer_links(files)"
   ]
  },
  {
   "cell_type": "markdown",
   "metadata": {},
   "source": [
    "## 2. extract the signal using the first batch peak regions and do the box plot "
   ]
  },
  {
   "cell_type": "code",
   "execution_count": 41,
   "metadata": {},
   "outputs": [],
   "source": [
    "bedfile = peakBed\n",
    "df = pd.read_csv(bedfile,sep='\\t',header=None)\n",
    "df.columns = np.arange(0,df.shape[1])\n",
    "# detect the strand and swap the start end when negative strand\n",
    "# the last column should be strand\n",
    "if df.iloc[0,-1] == '-' or df.iloc[0,-1] == '+':\n",
    "    idx = df.iloc[:,-1] == '-'\n",
    "    # swap the tss tes according to the strand\n",
    "    df.loc[idx,[1,2]] = df.loc[idx,[2,1]].values\n",
    "    # modify the strand\n",
    "    df.iloc[:,-1] = '+'\n"
   ]
  },
  {
   "cell_type": "code",
   "execution_count": 45,
   "metadata": {},
   "outputs": [
    {
     "data": {
      "text/plain": [
       "54"
      ]
     },
     "execution_count": 45,
     "metadata": {},
     "output_type": "execute_result"
    }
   ],
   "source": [
    "df.shape[0]"
   ]
  },
  {
   "cell_type": "code",
   "execution_count": 46,
   "metadata": {},
   "outputs": [],
   "source": [
    "# function for formating the chr start end into bed format\n",
    "# if the last column has sign ('+' or '-'), then prepare to swap tss and tes for '-'\n",
    "def convert_region_to_bed(bedfile, outname, header=None):\n",
    "    df = pd.read_csv(bedfile,sep='\\t',header=None)\n",
    "    df.columns = np.arange(0,df.shape[1])\n",
    "    # detect the strand and swap the start end when negative strand\n",
    "    # the last column should be strand\n",
    "    if df.iloc[0,-1] == '-' or df.iloc[0,-1] == '+':\n",
    "        idx = df.iloc[:,-1] == '-'\n",
    "        # swap the tss tes according to the strand\n",
    "        df.loc[idx,[1,2]] = df.loc[idx,[2,1]].values\n",
    "        # modify the strand\n",
    "        df.iloc[:,-1] = '+'\n",
    "        \n",
    "    df.loc[:,3] = np.arange(df.shape[0])# for gene name column\n",
    "    df.loc[:,4] = 0 # for bed format (value)\n",
    "    df.loc[:,5] = '+'\n",
    "    df = df.reindex(range(6), axis='columns')\n",
    "    print('writing the output --> {}'.format(outname))\n",
    "    print(f'{outname} --->: reformated bed_file as the input of the bigWigAverageoverBed')\n",
    "    df.to_csv(outname,sep='\\t',index=False,header=None)\n",
    "    \n",
    "    \n",
    "def comp_avg_sig_from_bw_by_bed(bedfile, bw_files, which_column=2):\n",
    "    \"\"\"\n",
    "    bedfile: the input merged bedfile which needs to extract the signal from\n",
    "    bw_files: list of bw files whose signal is extracted from\n",
    "    which_column: 3 is the acutal counts column, 4 is the acutal avg signal column;\n",
    "    but, we need to use the first column as index, then 2 is the counts column;\n",
    "    outname: reformat the bedfile to the normal 6 columns bed file\n",
    "    will save the output file in the same folder as the bedfile\n",
    "    \"\"\"\n",
    "    outname = bedfile.split('.bed')[0] + '.str.bed'\n",
    "    # convert the 3 columns bed to the normal bed file\n",
    "    convert_region_to_bed(bedfile, outname)\n",
    "    for i,bw_file in enumerate(bw_files):\n",
    "        command = line = f'~/xc3/software/bigWigAverageOverBed {bw_file} {outname} avg_sig_{i}.txt'\n",
    "        print('execute --> {}'.format(command))\n",
    "        os.system(command)\n",
    "    dfs = []\n",
    "    for i in range(len(bw_files)):\n",
    "        dfs.append(pd.read_csv(f'avg_sig_{i}.txt',sep='\\t',header=None, index_col=0))\n",
    "    df = pd.DataFrame([dfs[0].iloc[:,0]] + # iloc[:,0]: the width\n",
    "                      [dfi.iloc[:,which_column] for dfi in dfs]).T # conbine the columns together\n",
    "    df.columns = ['width'] + [bw_file.split('/')[-1].split('.')[0] for bw_file in bw_files]\n",
    "    df_bed = pd.read_csv(bedfile, sep='\\t', header=None, names = ['chr', 'start', 'end'])\n",
    "    df_out = df_bed.join(df)\n",
    "    print(f\"output file -->: {bedfile.split('.bed')[0] + '.counts.txt'}\")\n",
    "    df_out.to_csv(bedfile.split('.bed')[0] + '.counts.txt', sep='\\t', index=False)"
   ]
  },
  {
   "cell_type": "code",
   "execution_count": 27,
   "metadata": {},
   "outputs": [],
   "source": [
    "# generate the T1 T1_Y78A Y78A; T2 T2_Y78A Y78A; T3 T3_Y78A Y78A\n",
    "exp = '293'\n",
    "samples = [\"ENL_C\",\"ENL_B\",\"T1_C\", \"Y78A_B\", \"T1_Y78A\",\n",
    "           \"T2_B\", \"T2_Y78A\", \"T3_B\", \"T3_Y78A\"]\n",
    "bwfiles = []\n",
    "for sample in samples:\n",
    "    bwfile = glob.glob(bwpath + exp + '*' + sample + '*.bw')[0]\n",
    "    bwfiles.append(bwfile)"
   ]
  },
  {
   "cell_type": "code",
   "execution_count": 28,
   "metadata": {},
   "outputs": [
    {
     "data": {
      "text/plain": [
       "['/mount/weili2/lilab/xc3/ENL2/ChIP/second_batch/nsp/bw/293_ENL_C_treat.nsp.bw',\n",
       " '/mount/weili2/lilab/xc3/ENL2/ChIP/second_batch/nsp/bw/293_ENL_B_treat.nsp.bw',\n",
       " '/mount/weili2/lilab/xc3/ENL2/ChIP/second_batch/nsp/bw/293_T1_C_treat.nsp.bw',\n",
       " '/mount/weili2/lilab/xc3/ENL2/ChIP/second_batch/nsp/bw/293_Y78A_B_treat.nsp.bw',\n",
       " '/mount/weili2/lilab/xc3/ENL2/ChIP/second_batch/nsp/bw/293_T1_Y78A_treat.nsp.bw',\n",
       " '/mount/weili2/lilab/xc3/ENL2/ChIP/second_batch/nsp/bw/293_T2_B_treat.nsp.bw',\n",
       " '/mount/weili2/lilab/xc3/ENL2/ChIP/second_batch/nsp/bw/293_T2_Y78A_treat.nsp.bw',\n",
       " '/mount/weili2/lilab/xc3/ENL2/ChIP/second_batch/nsp/bw/293_T3_B_treat.nsp.bw',\n",
       " '/mount/weili2/lilab/xc3/ENL2/ChIP/second_batch/nsp/bw/293_T3_Y78A_treat.nsp.bw']"
      ]
     },
     "execution_count": 28,
     "metadata": {},
     "output_type": "execute_result"
    }
   ],
   "source": [
    "bwfiles"
   ]
  },
  {
   "cell_type": "code",
   "execution_count": 55,
   "metadata": {},
   "outputs": [
    {
     "name": "stdout",
     "output_type": "stream",
     "text": [
      "writing the output --> 293.all.1_5.str.bed\n",
      "293.all.1_5.str.bed --->: reformated bed_file as the input of the bigWigAverageoverBed\n",
      "execute --> ~/xc3/software/bigWigAverageOverBed /mount/weili2/lilab/xc3/ENL2/ChIP/second_batch/nsp/bw/293_ENL_C_treat.nsp.bw 293.all.1_5.str.bed avg_sig_0.txt\n",
      "execute --> ~/xc3/software/bigWigAverageOverBed /mount/weili2/lilab/xc3/ENL2/ChIP/second_batch/nsp/bw/293_ENL_B_treat.nsp.bw 293.all.1_5.str.bed avg_sig_1.txt\n",
      "execute --> ~/xc3/software/bigWigAverageOverBed /mount/weili2/lilab/xc3/ENL2/ChIP/second_batch/nsp/bw/293_T1_C_treat.nsp.bw 293.all.1_5.str.bed avg_sig_2.txt\n",
      "execute --> ~/xc3/software/bigWigAverageOverBed /mount/weili2/lilab/xc3/ENL2/ChIP/second_batch/nsp/bw/293_Y78A_B_treat.nsp.bw 293.all.1_5.str.bed avg_sig_3.txt\n",
      "execute --> ~/xc3/software/bigWigAverageOverBed /mount/weili2/lilab/xc3/ENL2/ChIP/second_batch/nsp/bw/293_T1_Y78A_treat.nsp.bw 293.all.1_5.str.bed avg_sig_4.txt\n",
      "execute --> ~/xc3/software/bigWigAverageOverBed /mount/weili2/lilab/xc3/ENL2/ChIP/second_batch/nsp/bw/293_T2_B_treat.nsp.bw 293.all.1_5.str.bed avg_sig_5.txt\n",
      "execute --> ~/xc3/software/bigWigAverageOverBed /mount/weili2/lilab/xc3/ENL2/ChIP/second_batch/nsp/bw/293_T2_Y78A_treat.nsp.bw 293.all.1_5.str.bed avg_sig_6.txt\n",
      "execute --> ~/xc3/software/bigWigAverageOverBed /mount/weili2/lilab/xc3/ENL2/ChIP/second_batch/nsp/bw/293_T3_B_treat.nsp.bw 293.all.1_5.str.bed avg_sig_7.txt\n",
      "execute --> ~/xc3/software/bigWigAverageOverBed /mount/weili2/lilab/xc3/ENL2/ChIP/second_batch/nsp/bw/293_T3_Y78A_treat.nsp.bw 293.all.1_5.str.bed avg_sig_8.txt\n",
      "output file -->: 293.all.1_5.counts.txt\n"
     ]
    }
   ],
   "source": [
    "peakBed = \"293.all.1_5.bed\"\n",
    "comp_avg_sig_from_bw_by_bed(peakBed, bwfiles, 3)"
   ]
  },
  {
   "cell_type": "code",
   "execution_count": 59,
   "metadata": {},
   "outputs": [
    {
     "name": "stdout",
     "output_type": "stream",
     "text": [
      "chr\tstart\tend\twidth\t293_ENL_C_treat\t293_ENL_B_treat\t293_T1_C_treat\t293_Y78A_B_treat\t293_T1_Y78A_treat\t293_T2_B_treat\t293_T2_Y78A_treat\t293_T3_B_treat\t293_T3_Y78A_treat\n",
      "chr12\t22093615\t22095545\t1930.0\t5.65285\t5.0025900000000005\t4.911919999999999\t2.77461\t5.1943\t4.68912\t2.79793\t7.84456\t4.588080000000001\n",
      "chr12\t40498570\t40500215\t1645.0\t6.49544\t7.142860000000001\t4.00304\t2.90274\t6.31003\t7.07903\t4.24012\t7.59271\t3.91185\n",
      "chr12\t54332285\t54334216\t1931.0\t8.1217\t6.06888\t8.19161\t3.14759\t8.0782\t11.1336\t5.90523\t14.5417\t5.495080000000001\n",
      "chr12\t54392846\t54395852\t3006.0\t5.02661\t6.10778\t6.9175\t3.15502\t5.68663\t9.22821\t3.13573\t11.3812\t3.81104\n",
      "chr11\t94473238\t94474588\t1350.0\t5.03556\t3.4637\t4.65926\t2.24296\t2.43407\t7.12\t2.50074\t6.61333\t3.81185\n",
      "chr17\t46618157\t46623367\t5210.0\t16.758\t15.3054\t16.7653\t5.684069999999999\t18.1019\t23.7639\t9.55048\t30.2889\t10.9628\n",
      "chr17\t46670267\t46683328\t13061.0\t6.94235\t5.34806\t10.802\t3.6121300000000005\t5.35977\t6.642060000000001\t3.2921699999999996\t9.78172\t4.16477\n",
      "chr17\t46686377\t46692492\t6115.0\t7.217169999999999\t5.06231\t8.43794\t3.43794\t6.47277\t7.06917\t3.7004099999999998\t10.5101\t4.84219\n",
      "chr17\t46699828\t46704548\t4720.0\t9.74831\t7.91822\t8.64364\t5.45339\t7.812710000000001\t10.5339\t4.72585\t14.9398\t5.6572\n",
      "cp /home/jlyu/xc3/experiment/ENL2/Chip-seq_analysis/no_spike_in/re_do_mapping_with_lambda/Run_On_Lvjie/res_second_batch_using_first_batch_peak/293.all.1_5.counts.txt /mount/weili2/lilab/xc3/ENL2/ChIP/tmp/293.all.1_5.counts.txt\n",
      "http://dldcc-web.brc.bcm.edu/lilab/xc3/ENL2/ChIP/tmp/293.all.1_5.counts.txt\n",
      "1\n"
     ]
    }
   ],
   "source": [
    "!head 293.all.1_5.counts.txt \n",
    "\n",
    "# download the counts file\n",
    "files = glob.glob('293.all.1_5.counts.txt')\n",
    "for ifile in files:\n",
    "    source = work_path + ifile\n",
    "    symbol = public_url_folder + ifile\n",
    "    line = f\"cp {source} {public_url_folder}{ifile}\"\n",
    "    print(line)\n",
    "    os.system(line)\n",
    "    print(f'{public_url_pre}{ifile}')\n",
    "    \n",
    "print(len(files))"
   ]
  },
  {
   "cell_type": "markdown",
   "metadata": {},
   "source": [
    "## calculate the fold change"
   ]
  },
  {
   "cell_type": "code",
   "execution_count": 104,
   "metadata": {},
   "outputs": [
    {
     "data": {
      "text/html": [
       "<div>\n",
       "<style scoped>\n",
       "    .dataframe tbody tr th:only-of-type {\n",
       "        vertical-align: middle;\n",
       "    }\n",
       "\n",
       "    .dataframe tbody tr th {\n",
       "        vertical-align: top;\n",
       "    }\n",
       "\n",
       "    .dataframe thead th {\n",
       "        text-align: right;\n",
       "    }\n",
       "</style>\n",
       "<table border=\"1\" class=\"dataframe\">\n",
       "  <thead>\n",
       "    <tr style=\"text-align: right;\">\n",
       "      <th></th>\n",
       "      <th>chr</th>\n",
       "      <th>start</th>\n",
       "      <th>end</th>\n",
       "      <th>width</th>\n",
       "      <th>293_ENL_C_treat</th>\n",
       "      <th>293_ENL_B_treat</th>\n",
       "      <th>293_T1_C_treat</th>\n",
       "      <th>293_Y78A_B_treat</th>\n",
       "      <th>293_T1_Y78A_treat</th>\n",
       "      <th>293_T2_B_treat</th>\n",
       "      <th>293_T2_Y78A_treat</th>\n",
       "      <th>293_T3_B_treat</th>\n",
       "      <th>293_T3_Y78A_treat</th>\n",
       "    </tr>\n",
       "  </thead>\n",
       "  <tbody>\n",
       "    <tr>\n",
       "      <th>0</th>\n",
       "      <td>chrX</td>\n",
       "      <td>139013059</td>\n",
       "      <td>139015539</td>\n",
       "      <td>2480.0</td>\n",
       "      <td>9.80887</td>\n",
       "      <td>5.94113</td>\n",
       "      <td>6.68750</td>\n",
       "      <td>3.49597</td>\n",
       "      <td>6.54516</td>\n",
       "      <td>9.85524</td>\n",
       "      <td>5.76976</td>\n",
       "      <td>12.61530</td>\n",
       "      <td>4.55484</td>\n",
       "    </tr>\n",
       "    <tr>\n",
       "      <th>1</th>\n",
       "      <td>chrX</td>\n",
       "      <td>152953149</td>\n",
       "      <td>152955086</td>\n",
       "      <td>1937.0</td>\n",
       "      <td>6.97264</td>\n",
       "      <td>4.89210</td>\n",
       "      <td>4.05782</td>\n",
       "      <td>3.47496</td>\n",
       "      <td>4.34796</td>\n",
       "      <td>5.49200</td>\n",
       "      <td>3.38358</td>\n",
       "      <td>6.17656</td>\n",
       "      <td>3.90398</td>\n",
       "    </tr>\n",
       "    <tr>\n",
       "      <th>2</th>\n",
       "      <td>chr13</td>\n",
       "      <td>29067437</td>\n",
       "      <td>29069689</td>\n",
       "      <td>2252.0</td>\n",
       "      <td>6.61634</td>\n",
       "      <td>5.80684</td>\n",
       "      <td>5.10702</td>\n",
       "      <td>3.98002</td>\n",
       "      <td>5.88366</td>\n",
       "      <td>7.06172</td>\n",
       "      <td>4.18828</td>\n",
       "      <td>8.37433</td>\n",
       "      <td>5.29307</td>\n",
       "    </tr>\n",
       "  </tbody>\n",
       "</table>\n",
       "</div>"
      ],
      "text/plain": [
       "     chr      start        end   width  293_ENL_C_treat  293_ENL_B_treat  \\\n",
       "0   chrX  139013059  139015539  2480.0          9.80887          5.94113   \n",
       "1   chrX  152953149  152955086  1937.0          6.97264          4.89210   \n",
       "2  chr13   29067437   29069689  2252.0          6.61634          5.80684   \n",
       "\n",
       "   293_T1_C_treat  293_Y78A_B_treat  293_T1_Y78A_treat  293_T2_B_treat  \\\n",
       "0         6.68750           3.49597            6.54516         9.85524   \n",
       "1         4.05782           3.47496            4.34796         5.49200   \n",
       "2         5.10702           3.98002            5.88366         7.06172   \n",
       "\n",
       "   293_T2_Y78A_treat  293_T3_B_treat  293_T3_Y78A_treat  \n",
       "0            5.76976        12.61530            4.55484  \n",
       "1            3.38358         6.17656            3.90398  \n",
       "2            4.18828         8.37433            5.29307  "
      ]
     },
     "execution_count": 104,
     "metadata": {},
     "output_type": "execute_result"
    }
   ],
   "source": [
    "df = pd.read_csv('293.all.1_2.counts.txt', sep='\\t',header=0)\n",
    "df.head(3)"
   ]
  },
  {
   "cell_type": "code",
   "execution_count": 106,
   "metadata": {},
   "outputs": [],
   "source": [
    "df_t1 = df.loc[:, ['293_ENL_C_treat', '293_T1_C_treat', '293_T1_Y78A_treat', '293_Y78A_B_treat']].copy()\n",
    "for i in range(1, df_t1.shape[1]):\n",
    "    df_t1[i] = df_t1.iloc[:,i].div(df_t1.iloc[:,0])\n",
    "df_t1.to_csv('second_batch_T1.txt', sep='\\t')"
   ]
  },
  {
   "cell_type": "code",
   "execution_count": 107,
   "metadata": {},
   "outputs": [
    {
     "data": {
      "image/png": "[encoded data removed]",
      "text/plain": [
       "<Figure size 432x288 with 1 Axes>"
      ]
     },
     "metadata": {},
     "output_type": "display_data"
    }
   ],
   "source": [
    "df_t1.boxplot(column=[1,2,3])\n",
    "plt.savefig('T1_more.pdf')"
   ]
  },
  {
   "cell_type": "code",
   "execution_count": 31,
   "metadata": {},
   "outputs": [],
   "source": [
    "import scipy.stats"
   ]
  },
  {
   "cell_type": "code",
   "execution_count": 36,
   "metadata": {},
   "outputs": [],
   "source": [
    "def stars(p):\n",
    "    if p < 0.0001:\n",
    "        return \"****\"\n",
    "    elif (p < 0.001):\n",
    "        return \"***\"\n",
    "    elif (p < 0.01):\n",
    "        return \"**\"\n",
    "    elif (p < 0.05):\n",
    "        return \"*\"\n",
    "    else:\n",
    "        return \"-\""
   ]
  },
  {
   "cell_type": "code",
   "execution_count": 108,
   "metadata": {},
   "outputs": [
    {
     "name": "stdout",
     "output_type": "stream",
     "text": [
      "0.06997471939513664\n",
      "2.569288993187803e-62\n"
     ]
    },
    {
     "data": {
      "image/png": "[encoded data removed]",
      "text/plain": [
       "<Figure size 576x432 with 1 Axes>"
      ]
     },
     "metadata": {},
     "output_type": "display_data"
    }
   ],
   "source": [
    "fig = plt.figure(1, figsize=(8,6))\n",
    "ax = fig.add_subplot(111)\n",
    "bp = ax.boxplot(df_t1.iloc[:,-3:].T, 0, \n",
    "#                patch_artist=True,\n",
    "                labels=['T1', 'T1+Y78A','Y78A'])\n",
    "for i, box in enumerate(bp['boxes']):\n",
    "    if i == 0:\n",
    "        box.set(color='brown', linewidth=3)\n",
    "    if i == 1:\n",
    "        box.set( color='magenta', linewidth=3)\n",
    "    if i == 2:\n",
    "        box.set( color='green', linewidth=3)\n",
    "\n",
    "for i, box in enumerate(bp['caps']):\n",
    "    if i < 2:\n",
    "        box.set(color='brown', linewidth=3)\n",
    "    elif i < 4:\n",
    "        box.set( color='magenta', linewidth=3)\n",
    "    elif i < 6:\n",
    "        box.set( color='green', linewidth=3)  \n",
    "        \n",
    "for i, box in enumerate(bp['whiskers']):\n",
    "    if i < 2:\n",
    "        box.set(color='brown', linewidth=3)\n",
    "    elif i < 4:\n",
    "        box.set( color='magenta', linewidth=3)\n",
    "    elif i < 6:\n",
    "        box.set( color='green', linewidth=3)       \n",
    "        \n",
    "for i, box in enumerate(bp['medians']):\n",
    "    if i == 0:\n",
    "        box.set(color='brown', linewidth=3)\n",
    "    if i == 1:\n",
    "        box.set( color='magenta', linewidth=3)\n",
    "    if i == 2:\n",
    "        box.set( color='green', linewidth=3)\n",
    "        \n",
    "# Set the tick labels font\n",
    "for label in (ax.get_xticklabels() + ax.get_yticklabels()):\n",
    "    label.set_fontsize(16)\n",
    "    \n",
    "ax.set_ylabel('Fold change (vs. WT)', fontsize=16)\n",
    "        \n",
    "# do the test \n",
    "# Mann-Whitney U test\n",
    "_, p = scipy.stats.mannwhitneyu(df_t1.iloc[:,-3], df_t1.iloc[:,-2])\n",
    "y_max = np.max(np.concatenate((df_t1.iloc[:,-3], df_t1.iloc[:,-2])))\n",
    "y_min = np.min(np.concatenate((df_t1.iloc[:,-3], df_t1.iloc[:,-2])))\n",
    "# first bar\n",
    "ax.annotate(\"\", xy=(1, y_max), xycoords='data',\n",
    "           xytext=(2, y_max), textcoords='data',\n",
    "           arrowprops=dict(arrowstyle=\"-\", ec='#aaaaaa', lw=2,\n",
    "                           connectionstyle=\"bar,fraction=0.1\"))\n",
    "ax.text(1.5, y_max + 0.5, stars(p),fontsize=15,\n",
    "       horizontalalignment='center',\n",
    "       verticalalignment='center')\n",
    "\n",
    "print(p)\n",
    "# second bar\n",
    "_, p = scipy.stats.mannwhitneyu(df_t1.iloc[:,-3], df_t1.iloc[:,-1])\n",
    "y_max = np.max(np.concatenate((df_t1.iloc[:,-3], df_t1.iloc[:,-1])))\n",
    "y_min = np.min(np.concatenate((df_t1.iloc[:,-3], df_t1.iloc[:,-1])))\n",
    "\n",
    "ax.annotate(\"\", xy=(1, y_max), xycoords='data',\n",
    "           xytext=(3, y_max), textcoords='data',\n",
    "           arrowprops=dict(arrowstyle=\"-\", ec='#aaaaaa', lw=2,\n",
    "                           connectionstyle=\"bar,fraction=0.12\"))\n",
    "ax.text(2.5, y_max + abs(y_max - y_min)*0.16, stars(p),fontsize=15,\n",
    "       horizontalalignment='center',\n",
    "       verticalalignment='center')\n",
    "\n",
    "ax.set_ylim([0, 7])\n",
    "\n",
    "plt.savefig('T1.pdf') \n",
    "print(p)"
   ]
  },
  {
   "cell_type": "code",
   "execution_count": 109,
   "metadata": {},
   "outputs": [
    {
     "data": {
      "text/html": [
       "<div>\n",
       "<style scoped>\n",
       "    .dataframe tbody tr th:only-of-type {\n",
       "        vertical-align: middle;\n",
       "    }\n",
       "\n",
       "    .dataframe tbody tr th {\n",
       "        vertical-align: top;\n",
       "    }\n",
       "\n",
       "    .dataframe thead th {\n",
       "        text-align: right;\n",
       "    }\n",
       "</style>\n",
       "<table border=\"1\" class=\"dataframe\">\n",
       "  <thead>\n",
       "    <tr style=\"text-align: right;\">\n",
       "      <th></th>\n",
       "      <th>293_ENL_B_treat</th>\n",
       "      <th>293_T2_B_treat</th>\n",
       "      <th>293_T2_Y78A_treat</th>\n",
       "      <th>293_Y78A_B_treat</th>\n",
       "      <th>1</th>\n",
       "      <th>2</th>\n",
       "      <th>3</th>\n",
       "    </tr>\n",
       "  </thead>\n",
       "  <tbody>\n",
       "    <tr>\n",
       "      <th>0</th>\n",
       "      <td>5.94113</td>\n",
       "      <td>9.85524</td>\n",
       "      <td>5.76976</td>\n",
       "      <td>3.49597</td>\n",
       "      <td>1.658816</td>\n",
       "      <td>0.971155</td>\n",
       "      <td>0.588435</td>\n",
       "    </tr>\n",
       "    <tr>\n",
       "      <th>1</th>\n",
       "      <td>4.89210</td>\n",
       "      <td>5.49200</td>\n",
       "      <td>3.38358</td>\n",
       "      <td>3.47496</td>\n",
       "      <td>1.122626</td>\n",
       "      <td>0.691642</td>\n",
       "      <td>0.710321</td>\n",
       "    </tr>\n",
       "    <tr>\n",
       "      <th>2</th>\n",
       "      <td>5.80684</td>\n",
       "      <td>7.06172</td>\n",
       "      <td>4.18828</td>\n",
       "      <td>3.98002</td>\n",
       "      <td>1.216104</td>\n",
       "      <td>0.721267</td>\n",
       "      <td>0.685402</td>\n",
       "    </tr>\n",
       "    <tr>\n",
       "      <th>3</th>\n",
       "      <td>3.32137</td>\n",
       "      <td>5.30179</td>\n",
       "      <td>4.56770</td>\n",
       "      <td>2.65090</td>\n",
       "      <td>1.596266</td>\n",
       "      <td>1.375246</td>\n",
       "      <td>0.798135</td>\n",
       "    </tr>\n",
       "    <tr>\n",
       "      <th>4</th>\n",
       "      <td>6.11496</td>\n",
       "      <td>6.95898</td>\n",
       "      <td>4.42403</td>\n",
       "      <td>3.34084</td>\n",
       "      <td>1.138025</td>\n",
       "      <td>0.723477</td>\n",
       "      <td>0.546339</td>\n",
       "    </tr>\n",
       "  </tbody>\n",
       "</table>\n",
       "</div>"
      ],
      "text/plain": [
       "   293_ENL_B_treat  293_T2_B_treat  293_T2_Y78A_treat  293_Y78A_B_treat  \\\n",
       "0          5.94113         9.85524            5.76976           3.49597   \n",
       "1          4.89210         5.49200            3.38358           3.47496   \n",
       "2          5.80684         7.06172            4.18828           3.98002   \n",
       "3          3.32137         5.30179            4.56770           2.65090   \n",
       "4          6.11496         6.95898            4.42403           3.34084   \n",
       "\n",
       "          1         2         3  \n",
       "0  1.658816  0.971155  0.588435  \n",
       "1  1.122626  0.691642  0.710321  \n",
       "2  1.216104  0.721267  0.685402  \n",
       "3  1.596266  1.375246  0.798135  \n",
       "4  1.138025  0.723477  0.546339  "
      ]
     },
     "execution_count": 109,
     "metadata": {},
     "output_type": "execute_result"
    }
   ],
   "source": [
    "df_t2 = df.loc[:, ['293_ENL_B_treat', '293_T2_B_treat', '293_T2_Y78A_treat', '293_Y78A_B_treat']].copy()\n",
    "for i in range(1, df_t2.shape[1]):\n",
    "    df_t2[i] = df_t2.iloc[:,i].div(df_t2.iloc[:,0])\n",
    "    \n",
    "df_t2.to_csv('second_batch_T2.txt', sep='\\t')      \n",
    "df_t2.head()"
   ]
  },
  {
   "cell_type": "code",
   "execution_count": 110,
   "metadata": {},
   "outputs": [
    {
     "data": {
      "image/png": "[encoded data removed]",
      "text/plain": [
       "<Figure size 432x288 with 1 Axes>"
      ]
     },
     "metadata": {},
     "output_type": "display_data"
    }
   ],
   "source": [
    "df_t2.boxplot(column=[1,2,3], grid=False, )\n",
    "plt.savefig('T2_more.pdf')"
   ]
  },
  {
   "cell_type": "code",
   "execution_count": 113,
   "metadata": {},
   "outputs": [
    {
     "name": "stdout",
     "output_type": "stream",
     "text": [
      "2.4080599667137697e-75\n",
      "9.205392689638343e-80\n"
     ]
    },
    {
     "data": {
      "image/png": "[encoded data removed]",
      "text/plain": [
       "<Figure size 576x432 with 1 Axes>"
      ]
     },
     "metadata": {},
     "output_type": "display_data"
    }
   ],
   "source": [
    "fig = plt.figure(1, figsize=(8,6))\n",
    "ax = fig.add_subplot(111)\n",
    "bp = ax.boxplot(df_t2.iloc[:,-3:].T, 0,  \n",
    "#                patch_artist=True,\n",
    "                labels=['T2', 'T2+Y78A', 'Y78A'])\n",
    "for i, box in enumerate(bp['boxes']):\n",
    "    if i == 0:\n",
    "        box.set(color='brown', linewidth=3)\n",
    "    if i == 1:\n",
    "        box.set( color='magenta', linewidth=3)\n",
    "    if i == 2:\n",
    "        box.set( color='green', linewidth=3)\n",
    "\n",
    "for i, box in enumerate(bp['caps']):\n",
    "    if i < 2:\n",
    "        box.set(color='brown', linewidth=3)\n",
    "    elif i < 4:\n",
    "        box.set( color='magenta', linewidth=3)\n",
    "    elif i < 6:\n",
    "        box.set( color='green', linewidth=3)  \n",
    "        \n",
    "for i, box in enumerate(bp['whiskers']):\n",
    "    if i < 2:\n",
    "        box.set(color='brown', linewidth=3)\n",
    "    elif i < 4:\n",
    "        box.set( color='magenta', linewidth=3)\n",
    "    elif i < 6:\n",
    "        box.set( color='green', linewidth=3)       \n",
    "        \n",
    "for i, box in enumerate(bp['medians']):\n",
    "    if i == 0:\n",
    "        box.set(color='brown', linewidth=3)\n",
    "    if i == 1:\n",
    "        box.set( color='magenta', linewidth=3)\n",
    "    if i == 2:\n",
    "        box.set( color='green', linewidth=3)\n",
    "        \n",
    "for i, box in enumerate(bp['fliers']):\n",
    "    if i == 0:\n",
    "        box.set(marker='o', color='brown')\n",
    "    if i == 1:\n",
    "        box.set(marker='o', color='magenta')\n",
    "    if i == 2:\n",
    "        box.set(marker='o', color='green')\n",
    "        \n",
    "# Set the tick labels font\n",
    "for label in (ax.get_xticklabels() + ax.get_yticklabels()):\n",
    "    label.set_fontsize(16)\n",
    "    \n",
    "ax.set_ylabel('Fold change (vs. WT)', fontsize=16)     \n",
    "        \n",
    "# do the test \n",
    "# Mann-Whitney U test\n",
    "_, p = scipy.stats.mannwhitneyu(df_t2.iloc[:,-3], df_t2.iloc[:,-2])\n",
    "y_max = np.max(np.concatenate((df_t2.iloc[:,-3], df_t2.iloc[:,-2])))\n",
    "y_min = np.min(np.concatenate((df_t2.iloc[:,-3], df_t2.iloc[:,-2])))\n",
    "# first bar\n",
    "ax.annotate(\"\", xy=(1, y_max), xycoords='data',\n",
    "           xytext=(2, y_max), textcoords='data',\n",
    "           arrowprops=dict(arrowstyle=\"-\", ec='#aaaaaa', lw=2,\n",
    "                           connectionstyle=\"bar,fraction=0.1\"))\n",
    "ax.text(1.5, y_max + 0.225, stars(p),fontsize=15,\n",
    "       horizontalalignment='center',\n",
    "       verticalalignment='center')\n",
    "print(p)\n",
    "# second bar\n",
    "_, p = scipy.stats.mannwhitneyu(df_t2.iloc[:,-3], df_t2.iloc[:,-1])\n",
    "y_max = np.max(np.concatenate((df_t2.iloc[:,-3], df_t2.iloc[:,-1])))\n",
    "y_min = np.min(np.concatenate((df_t2.iloc[:,-3], df_t2.iloc[:,-1])))\n",
    "\n",
    "ax.annotate(\"\", xy=(1, y_max), xycoords='data',\n",
    "           xytext=(3, y_max), textcoords='data',\n",
    "           arrowprops=dict(arrowstyle=\"-\", ec='#aaaaaa', lw=2,\n",
    "                           connectionstyle=\"bar,fraction=0.12\"))\n",
    "ax.text(2.5, y_max + abs(y_max - y_min)*0.168, stars(p),fontsize=15,\n",
    "       horizontalalignment='center',\n",
    "       verticalalignment='center')    \n",
    "\n",
    "ax.set_ylim([0, 3.8])\n",
    "    \n",
    "plt.savefig('T2.pdf')  \n",
    "print(p)"
   ]
  },
  {
   "cell_type": "code",
   "execution_count": 114,
   "metadata": {},
   "outputs": [
    {
     "data": {
      "text/html": [
       "<div>\n",
       "<style scoped>\n",
       "    .dataframe tbody tr th:only-of-type {\n",
       "        vertical-align: middle;\n",
       "    }\n",
       "\n",
       "    .dataframe tbody tr th {\n",
       "        vertical-align: top;\n",
       "    }\n",
       "\n",
       "    .dataframe thead th {\n",
       "        text-align: right;\n",
       "    }\n",
       "</style>\n",
       "<table border=\"1\" class=\"dataframe\">\n",
       "  <thead>\n",
       "    <tr style=\"text-align: right;\">\n",
       "      <th></th>\n",
       "      <th>293_ENL_B_treat</th>\n",
       "      <th>293_T3_B_treat</th>\n",
       "      <th>293_T3_Y78A_treat</th>\n",
       "      <th>293_Y78A_B_treat</th>\n",
       "      <th>1</th>\n",
       "      <th>2</th>\n",
       "      <th>3</th>\n",
       "    </tr>\n",
       "  </thead>\n",
       "  <tbody>\n",
       "    <tr>\n",
       "      <th>0</th>\n",
       "      <td>5.94113</td>\n",
       "      <td>12.61530</td>\n",
       "      <td>4.55484</td>\n",
       "      <td>3.49597</td>\n",
       "      <td>2.123384</td>\n",
       "      <td>0.766662</td>\n",
       "      <td>0.588435</td>\n",
       "    </tr>\n",
       "    <tr>\n",
       "      <th>1</th>\n",
       "      <td>4.89210</td>\n",
       "      <td>6.17656</td>\n",
       "      <td>3.90398</td>\n",
       "      <td>3.47496</td>\n",
       "      <td>1.262558</td>\n",
       "      <td>0.798017</td>\n",
       "      <td>0.710321</td>\n",
       "    </tr>\n",
       "    <tr>\n",
       "      <th>2</th>\n",
       "      <td>5.80684</td>\n",
       "      <td>8.37433</td>\n",
       "      <td>5.29307</td>\n",
       "      <td>3.98002</td>\n",
       "      <td>1.442149</td>\n",
       "      <td>0.911523</td>\n",
       "      <td>0.685402</td>\n",
       "    </tr>\n",
       "    <tr>\n",
       "      <th>3</th>\n",
       "      <td>3.32137</td>\n",
       "      <td>6.55302</td>\n",
       "      <td>3.68515</td>\n",
       "      <td>2.65090</td>\n",
       "      <td>1.972987</td>\n",
       "      <td>1.109527</td>\n",
       "      <td>0.798135</td>\n",
       "    </tr>\n",
       "    <tr>\n",
       "      <th>4</th>\n",
       "      <td>6.11496</td>\n",
       "      <td>7.15309</td>\n",
       "      <td>4.99307</td>\n",
       "      <td>3.34084</td>\n",
       "      <td>1.169769</td>\n",
       "      <td>0.816534</td>\n",
       "      <td>0.546339</td>\n",
       "    </tr>\n",
       "  </tbody>\n",
       "</table>\n",
       "</div>"
      ],
      "text/plain": [
       "   293_ENL_B_treat  293_T3_B_treat  293_T3_Y78A_treat  293_Y78A_B_treat  \\\n",
       "0          5.94113        12.61530            4.55484           3.49597   \n",
       "1          4.89210         6.17656            3.90398           3.47496   \n",
       "2          5.80684         8.37433            5.29307           3.98002   \n",
       "3          3.32137         6.55302            3.68515           2.65090   \n",
       "4          6.11496         7.15309            4.99307           3.34084   \n",
       "\n",
       "          1         2         3  \n",
       "0  2.123384  0.766662  0.588435  \n",
       "1  1.262558  0.798017  0.710321  \n",
       "2  1.442149  0.911523  0.685402  \n",
       "3  1.972987  1.109527  0.798135  \n",
       "4  1.169769  0.816534  0.546339  "
      ]
     },
     "execution_count": 114,
     "metadata": {},
     "output_type": "execute_result"
    }
   ],
   "source": [
    "df_t3 = df.loc[:, ['293_ENL_B_treat', '293_T3_B_treat',  '293_T3_Y78A_treat', '293_Y78A_B_treat']].copy()\n",
    "for i in range(1, df_t3.shape[1]):\n",
    "    df_t3[i] = df_t3.iloc[:,i].div(df_t3.iloc[:,0])\n",
    "\n",
    "df_t3.to_csv('second_batch_T3.txt', sep='\\t')  \n",
    "df_t3.head()"
   ]
  },
  {
   "cell_type": "code",
   "execution_count": 115,
   "metadata": {},
   "outputs": [
    {
     "data": {
      "image/png": "[encoded data removed]",
      "text/plain": [
       "<Figure size 432x288 with 1 Axes>"
      ]
     },
     "metadata": {},
     "output_type": "display_data"
    }
   ],
   "source": [
    "df_t3.boxplot(column=[1,2,3])\n",
    "plt.savefig('T3_more.pdf')"
   ]
  },
  {
   "cell_type": "markdown",
   "metadata": {},
   "source": [
    "### peakBed = \"293.all.1_5.bed\"\n",
    "comp_avg_sig_from_bw_by_bed(peakBed, bwfiles, 3)"
   ]
  },
  {
   "cell_type": "markdown",
   "metadata": {},
   "source": [
    "## calcualte the fold change"
   ]
  },
  {
   "cell_type": "code",
   "execution_count": 118,
   "metadata": {},
   "outputs": [
    {
     "data": {
      "text/html": [
       "<div>\n",
       "<style scoped>\n",
       "    .dataframe tbody tr th:only-of-type {\n",
       "        vertical-align: middle;\n",
       "    }\n",
       "\n",
       "    .dataframe tbody tr th {\n",
       "        vertical-align: top;\n",
       "    }\n",
       "\n",
       "    .dataframe thead th {\n",
       "        text-align: right;\n",
       "    }\n",
       "</style>\n",
       "<table border=\"1\" class=\"dataframe\">\n",
       "  <thead>\n",
       "    <tr style=\"text-align: right;\">\n",
       "      <th></th>\n",
       "      <th>chr</th>\n",
       "      <th>start</th>\n",
       "      <th>end</th>\n",
       "      <th>width</th>\n",
       "      <th>293_ENL_C_treat</th>\n",
       "      <th>293_ENL_B_treat</th>\n",
       "      <th>293_T1_C_treat</th>\n",
       "      <th>293_Y78A_B_treat</th>\n",
       "      <th>293_T1_Y78A_treat</th>\n",
       "      <th>293_T2_B_treat</th>\n",
       "      <th>293_T2_Y78A_treat</th>\n",
       "      <th>293_T3_B_treat</th>\n",
       "      <th>293_T3_Y78A_treat</th>\n",
       "    </tr>\n",
       "  </thead>\n",
       "  <tbody>\n",
       "    <tr>\n",
       "      <th>0</th>\n",
       "      <td>chr12</td>\n",
       "      <td>22093615</td>\n",
       "      <td>22095545</td>\n",
       "      <td>1930.0</td>\n",
       "      <td>5.65285</td>\n",
       "      <td>5.00259</td>\n",
       "      <td>4.91192</td>\n",
       "      <td>2.77461</td>\n",
       "      <td>5.19430</td>\n",
       "      <td>4.68912</td>\n",
       "      <td>2.79793</td>\n",
       "      <td>7.84456</td>\n",
       "      <td>4.58808</td>\n",
       "    </tr>\n",
       "    <tr>\n",
       "      <th>1</th>\n",
       "      <td>chr12</td>\n",
       "      <td>40498570</td>\n",
       "      <td>40500215</td>\n",
       "      <td>1645.0</td>\n",
       "      <td>6.49544</td>\n",
       "      <td>7.14286</td>\n",
       "      <td>4.00304</td>\n",
       "      <td>2.90274</td>\n",
       "      <td>6.31003</td>\n",
       "      <td>7.07903</td>\n",
       "      <td>4.24012</td>\n",
       "      <td>7.59271</td>\n",
       "      <td>3.91185</td>\n",
       "    </tr>\n",
       "    <tr>\n",
       "      <th>2</th>\n",
       "      <td>chr12</td>\n",
       "      <td>54332285</td>\n",
       "      <td>54334216</td>\n",
       "      <td>1931.0</td>\n",
       "      <td>8.12170</td>\n",
       "      <td>6.06888</td>\n",
       "      <td>8.19161</td>\n",
       "      <td>3.14759</td>\n",
       "      <td>8.07820</td>\n",
       "      <td>11.13360</td>\n",
       "      <td>5.90523</td>\n",
       "      <td>14.54170</td>\n",
       "      <td>5.49508</td>\n",
       "    </tr>\n",
       "  </tbody>\n",
       "</table>\n",
       "</div>"
      ],
      "text/plain": [
       "     chr     start       end   width  293_ENL_C_treat  293_ENL_B_treat  \\\n",
       "0  chr12  22093615  22095545  1930.0          5.65285          5.00259   \n",
       "1  chr12  40498570  40500215  1645.0          6.49544          7.14286   \n",
       "2  chr12  54332285  54334216  1931.0          8.12170          6.06888   \n",
       "\n",
       "   293_T1_C_treat  293_Y78A_B_treat  293_T1_Y78A_treat  293_T2_B_treat  \\\n",
       "0         4.91192           2.77461            5.19430         4.68912   \n",
       "1         4.00304           2.90274            6.31003         7.07903   \n",
       "2         8.19161           3.14759            8.07820        11.13360   \n",
       "\n",
       "   293_T2_Y78A_treat  293_T3_B_treat  293_T3_Y78A_treat  \n",
       "0            2.79793         7.84456            4.58808  \n",
       "1            4.24012         7.59271            3.91185  \n",
       "2            5.90523        14.54170            5.49508  "
      ]
     },
     "execution_count": 118,
     "metadata": {},
     "output_type": "execute_result"
    }
   ],
   "source": [
    "df = pd.read_csv('293.all.1_5.counts.txt', sep='\\t',header=0)\n",
    "df.head(3)"
   ]
  },
  {
   "cell_type": "code",
   "execution_count": 119,
   "metadata": {},
   "outputs": [
    {
     "name": "stdout",
     "output_type": "stream",
     "text": [
      "8.857366926701552e-06\n",
      "4.014745947149245e-18\n"
     ]
    },
    {
     "data": {
      "image/png": "[encoded data removed]",
      "text/plain": [
       "<Figure size 576x432 with 1 Axes>"
      ]
     },
     "metadata": {},
     "output_type": "display_data"
    }
   ],
   "source": [
    "df_t1 = df.loc[:, ['293_ENL_C_treat', '293_T1_C_treat', '293_T1_Y78A_treat', '293_Y78A_B_treat']].copy()\n",
    "for i in range(1, df_t1.shape[1]):\n",
    "    df_t1[i] = df_t1.iloc[:,i].div(df_t1.iloc[:,0])\n",
    "df_t1.to_csv('second_batch_T1.txt', sep='\\t')\n",
    "\n",
    "fig = plt.figure(1, figsize=(8,6))\n",
    "ax = fig.add_subplot(111)\n",
    "bp = ax.boxplot(df_t1.iloc[:,-3:].T, 0, \n",
    "#                patch_artist=True,\n",
    "                labels=['T1', 'T1+Y78A','Y78A'])\n",
    "for i, box in enumerate(bp['boxes']):\n",
    "    if i == 0:\n",
    "        box.set(color='brown', linewidth=3)\n",
    "    if i == 1:\n",
    "        box.set( color='magenta', linewidth=3)\n",
    "    if i == 2:\n",
    "        box.set( color='green', linewidth=3)\n",
    "\n",
    "for i, box in enumerate(bp['caps']):\n",
    "    if i < 2:\n",
    "        box.set(color='brown', linewidth=3)\n",
    "    elif i < 4:\n",
    "        box.set( color='magenta', linewidth=3)\n",
    "    elif i < 6:\n",
    "        box.set( color='green', linewidth=3)  \n",
    "        \n",
    "for i, box in enumerate(bp['whiskers']):\n",
    "    if i < 2:\n",
    "        box.set(color='brown', linewidth=3)\n",
    "    elif i < 4:\n",
    "        box.set( color='magenta', linewidth=3)\n",
    "    elif i < 6:\n",
    "        box.set( color='green', linewidth=3)       \n",
    "        \n",
    "for i, box in enumerate(bp['medians']):\n",
    "    if i == 0:\n",
    "        box.set(color='brown', linewidth=3)\n",
    "    if i == 1:\n",
    "        box.set( color='magenta', linewidth=3)\n",
    "    if i == 2:\n",
    "        box.set( color='green', linewidth=3)\n",
    "        \n",
    "# Set the tick labels font\n",
    "for label in (ax.get_xticklabels() + ax.get_yticklabels()):\n",
    "    label.set_fontsize(16)\n",
    "    \n",
    "ax.set_ylabel('Fold change (vs. WT)', fontsize=16)\n",
    "        \n",
    "# do the test \n",
    "# Mann-Whitney U test\n",
    "_, p = scipy.stats.mannwhitneyu(df_t1.iloc[:,-3], df_t1.iloc[:,-2])\n",
    "y_max = np.max(np.concatenate((df_t1.iloc[:,-3], df_t1.iloc[:,-2])))\n",
    "y_min = np.min(np.concatenate((df_t1.iloc[:,-3], df_t1.iloc[:,-2])))\n",
    "# first bar\n",
    "ax.annotate(\"\", xy=(1, y_max), xycoords='data',\n",
    "           xytext=(2, y_max), textcoords='data',\n",
    "           arrowprops=dict(arrowstyle=\"-\", ec='#aaaaaa', lw=2,\n",
    "                           connectionstyle=\"bar,fraction=0.1\"))\n",
    "ax.text(1.5, y_max + 0.4, stars(p),fontsize=15,\n",
    "       horizontalalignment='center',\n",
    "       verticalalignment='center')\n",
    "print(p)\n",
    "# second bar\n",
    "_, p = scipy.stats.mannwhitneyu(df_t1.iloc[:,-3], df_t1.iloc[:,-1])\n",
    "y_max = np.max(np.concatenate((df_t1.iloc[:,-3], df_t1.iloc[:,-1])))画册合同33我vv6\n",
    "y_min = np.min(np.concatenate((df_t1.iloc[:,-3], df_t1.iloc[:,-1])))\n",
    "\n",
    "ax.annotate(\"\", xy=(1, y_max), xycoords='data',vhhhhhhhhh\n",
    "           xytext=(3, y_max), textcoords='data',\n",
    "           arrowprops=dict(arrowstyle=\"-\", ec='#aaaaaa', lw=2,\n",
    "                           connectionstyle=\"bar,fraction=0.12\"))\n",
    "ax.text(2.5, y_max + abs(y_max - y_min)*0.16, stars(p),fontsize=15,\n",
    "       horizontalalignment='center',\n",
    "       verticalalignment='center')\n",
    "\n",
    "ax.set_ylim([0, 7])\n",
    "\n",
    "plt.savefig('T1_1.5.pdf')   \n",
    "print(p)"
   ]
  },
  {
   "cell_type": "code",
   "execution_count": 120,
   "metadata": {},
   "outputs": [
    {
     "name": "stdout",
     "output_type": "stream",
     "text": [
      "7.102104622313781e-19\n",
      "2.9446352898967396e-19\n"
     ]
    },
    {
     "data": {
      "image/png": "[encoded data removed]",
      "text/plain": [
       "<Figure size 576x432 with 1 Axes>"
      ]
     },
     "metadata": {},
     "output_type": "display_data"
    }
   ],
   "source": [
    "df_t2 = df.loc[:, ['293_ENL_B_treat', '293_T2_B_treat', '293_T2_Y78A_treat', '293_Y78A_B_treat']].copy()\n",
    "for i in range(1, df_t2.shape[1]):\n",
    "    df_t2[i] = df_t2.iloc[:,i].div(df_t2.iloc[:,0])\n",
    "    \n",
    "df_t2.to_csv('second_batch_T2.txt', sep='\\t') \n",
    "\n",
    "fig = plt.figure(1, figsize=(8,6))\n",
    "ax = fig.add_subplot(111)\n",
    "bp = ax.boxplot(df_t2.iloc[:,-3:].T, 0,  \n",
    "#                patch_artist=True,\n",
    "                labels=['T2', 'T2+Y78A', 'Y78A'])\n",
    "for i, box in enumerate(bp['boxes']):\n",
    "    if i == 0:\n",
    "        box.set(color='brown', linewidth=3)\n",
    "    if i == 1:\n",
    "        box.set( color='magenta', linewidth=3)\n",
    "    if i == 2:\n",
    "        box.set( color='green', linewidth=3)\n",
    "\n",
    "for i, box in enumerate(bp['caps']):\n",
    "    if i < 2:\n",
    "        box.set(color='brown', linewidth=3)\n",
    "    elif i < 4:\n",
    "        box.set( color='magenta', linewidth=3)\n",
    "    elif i < 6:\n",
    "        box.set( color='green', linewidth=3)  \n",
    "        \n",
    "for i, box in enumerate(bp['whiskers']):\n",
    "    if i < 2:\n",
    "        box.set(color='brown', linewidth=3)\n",
    "    elif i < 4:\n",
    "        box.set( color='magenta', linewidth=3)\n",
    "    elif i < 6:\n",
    "        box.set( color='green', linewidth=3)       \n",
    "        \n",
    "for i, box in enumerate(bp['medians']):\n",
    "    if i == 0:\n",
    "        box.set(color='brown', linewidth=3)\n",
    "    if i == 1:\n",
    "        box.set( color='magenta', linewidth=3)\n",
    "    if i == 2:\n",
    "        box.set( color='green', linewidth=3)\n",
    "        \n",
    "for i, box in enumerate(bp['fliers']):\n",
    "    if i == 0:\n",
    "        box.set(marker='o', color='brown')\n",
    "    if i == 1:\n",
    "        box.set(marker='o', color='magenta')\n",
    "    if i == 2:\n",
    "        box.set(marker='o', color='green')\n",
    "        \n",
    "# Set the tick labels font\n",
    "for label in (ax.get_xticklabels() + ax.get_yticklabels()):\n",
    "    label.set_fontsize(16)\n",
    "    \n",
    "ax.set_ylabel('Fold change (vs. WT)', fontsize=16)     \n",
    "        \n",
    "# do the test \n",
    "# Mann-Whitney U test\n",
    "_, p = scipy.stats.mannwhitneyu(df_t2.iloc[:,-3], df_t2.iloc[:,-2])\n",
    "y_max = np.max(np.concatenate((df_t2.iloc[:,-3], df_t2.iloc[:,-2])))\n",
    "y_min = np.min(np.concatenate((df_t2.iloc[:,-3], df_t2.iloc[:,-2])))\n",
    "# first bar\n",
    "ax.annotate(\"\", xy=(1, y_max), xycoords='data',\n",
    "           xytext=(2, y_max), textcoords='data',\n",
    "           arrowprops=dict(arrowstyle=\"-\", ec='#aaaaaa', lw=2,\n",
    "                           connectionstyle=\"bar,fraction=0.1\"))\n",
    "ax.text(1.5, y_max + 0.225, stars(p),fontsize=15,\n",
    "       horizontalalignment='center',\n",
    "       verticalalignment='center')\n",
    "print(p)\n",
    "# second bar\n",
    "_, p = scipy.stats.mannwhitneyu(df_t2.iloc[:,-3], df_t2.iloc[:,-1])\n",
    "y_max = np.max(np.concatenate((df_t2.iloc[:,-3], df_t2.iloc[:,-1])))\n",
    "y_min = np.min(np.concatenate((df_t2.iloc[:,-3], df_t2.iloc[:,-1])))\n",
    "\n",
    "ax.annotate(\"\", xy=(1, y_max), xycoords='data',\n",
    "           xytext=(3, y_max), textcoords='data',\n",
    "           arrowprops=dict(arrowstyle=\"-\", ec='#aaaaaa', lw=2,\n",
    "                           connectionstyle=\"bar,fraction=0.12\"))\n",
    "ax.text(2.5, y_max + abs(y_max - y_min)*0.168, stars(p),fontsize=15,\n",
    "       horizontalalignment='center',\n",
    "       verticalalignment='center')    \n",
    "\n",
    "ax.set_ylim([0, 3.8])\n",
    "print(p)    \n",
    "plt.savefig('T2_1.5.pdf')   "
   ]
  },
  {
   "cell_type": "code",
   "execution_count": 121,
   "metadata": {},
   "outputs": [
    {
     "name": "stdout",
     "output_type": "stream",
     "text": [
      "6.723746795552688e-19\n",
      "1.8892884306294572e-19\n"
     ]
    },
    {
     "data": {
      "image/png": "[encoded data removed]",
      "text/plain": [
       "<Figure size 576x432 with 1 Axes>"
      ]
     },
     "metadata": {},
     "output_type": "display_data"
    }
   ],
   "source": [
    "df_t3 = df.loc[:, ['293_ENL_B_treat', '293_T3_B_treat',  '293_T3_Y78A_treat', '293_Y78A_B_treat']].copy()\n",
    "for i in range(1, df_t3.shape[1]):\n",
    "    df_t3[i] = df_t3.iloc[:,i].div(df_t3.iloc[:,0])\n",
    "\n",
    "df_t3.to_csv('second_batch_T3.txt', sep='\\t')  \n",
    "\n",
    "fig = plt.figure(1, figsize=(8,6))\n",
    "ax = fig.add_subplot(111)\n",
    "bp = ax.boxplot(df_t3.iloc[:,-3:].T, 0, \n",
    "#                patch_artist=True,\n",
    "                labels=['T3', 'T3+Y78A', 'Y78A'])\n",
    "for i, box in enumerate(bp['boxes']):\n",
    "    if i == 0:\n",
    "        box.set(color='brown', linewidth=3)\n",
    "    if i == 1:\n",
    "        box.set( color='magenta', linewidth=3)\n",
    "    if i == 2:\n",
    "        box.set( color='green', linewidth=3)\n",
    "\n",
    "for i, box in enumerate(bp['caps']):\n",
    "    if i < 2:\n",
    "        box.set(color='brown', linewidth=3)\n",
    "    elif i < 4:\n",
    "        box.set( color='magenta', linewidth=3)\n",
    "    elif i < 6:\n",
    "        box.set( color='green', linewidth=3)  \n",
    "        \n",
    "for i, box in enumerate(bp['whiskers']):\n",
    "    if i < 2:\n",
    "        box.set(color='brown', linewidth=3)\n",
    "    elif i < 4:\n",
    "        box.set( color='magenta', linewidth=3)\n",
    "    elif i < 6:\n",
    "        box.set( color='green', linewidth=3)       \n",
    "        \n",
    "for i, box in enumerate(bp['medians']):\n",
    "    if i == 0:\n",
    "        box.set(color='brown', linewidth=3)\n",
    "    if i == 1:\n",
    "        box.set( color='magenta', linewidth=3)\n",
    "    if i == 2:\n",
    "        box.set( color='green', linewidth=3)\n",
    "        \n",
    "for i, box in enumerate(bp['fliers']):\n",
    "    if i == 0:\n",
    "        box.set(marker='o', color='brown')\n",
    "    if i == 1:\n",
    "        box.set(marker='o', color='magenta')\n",
    "    if i == 2:\n",
    "        box.set(marker='o', color='green')\n",
    "        \n",
    "# Set the tick labels font\n",
    "for label in (ax.get_xticklabels() + ax.get_yticklabels()):\n",
    "    label.set_fontsize(16)\n",
    "    \n",
    "ax.set_ylabel('Fold change (vs. WT)', fontsize=16)     \n",
    "        \n",
    "# do the test \n",
    "# Mann-Whitney U test\n",
    "_, p = scipy.stats.mannwhitneyu(df_t3.iloc[:,-3], df_t3.iloc[:,-2])\n",
    "y_max = np.max(np.concatenate((df_t3.iloc[:,-3], df_t3.iloc[:,-2])))\n",
    "y_min = np.min(np.concatenate((df_t3.iloc[:,-3], df_t3.iloc[:,-2])))\n",
    "# first bar\n",
    "ax.annotate(\"\", xy=(1, y_max), xycoords='data',\n",
    "           xytext=(2, y_max), textcoords='data',\n",
    "           arrowprops=dict(arrowstyle=\"-\", ec='#aaaaaa', lw=2,\n",
    "                           connectionstyle=\"bar,fraction=0.1\"))\n",
    "ax.text(1.5, y_max + 0.225, stars(p),fontsize=15,\n",
    "       horizontalalignment='center',\n",
    "       verticalalignment='center')\n",
    "print(p)\n",
    "# second bar\n",
    "_, p = scipy.stats.mannwhitneyu(df_t3.iloc[:,-3], df_t3.iloc[:,-1])\n",
    "y_max = np.max(np.concatenate((df_t3.iloc[:,-3], df_t3.iloc[:,-1])))\n",
    "y_min = np.min(np.concatenate((df_t3.iloc[:,-3], df_t3.iloc[:,-1])))\n",
    "\n",
    "ax.annotate(\"\", xy=(1, y_max), xycoords='data',\n",
    "           xytext=(3, y_max), textcoords='data',\n",
    "           arrowprops=dict(arrowstyle=\"-\", ec='#aaaaaa', lw=2,\n",
    "                           connectionstyle=\"bar,fraction=0.12\"))\n",
    "ax.text(2.5, y_max + abs(y_max - y_min)*0.168, stars(p),fontsize=15,\n",
    "       horizontalalignment='center',\n",
    "       verticalalignment='center') \n",
    "\n",
    "ax.set_ylim([0,4.5])\n",
    "print(p)\n",
    "plt.savefig('T3_1.5.pdf') "
   ]
  },
  {
   "cell_type": "code",
   "execution_count": null,
   "metadata": {},
   "outputs": [],
   "source": []
  }
 ],
 "metadata": {
  "kernelspec": {
   "display_name": "Python 3",
   "language": "python",
   "name": "python3"
  },
  "language_info": {
   "codemirror_mode": {
    "name": "ipython",
    "version": 3
   },
   "file_extension": ".py",
   "mimetype": "text/x-python",
   "name": "python",
   "nbconvert_exporter": "python",
   "pygments_lexer": "ipython3",
   "version": "3.6.5"
  }
 },
 "nbformat": 4,
 "nbformat_minor": 2
}
