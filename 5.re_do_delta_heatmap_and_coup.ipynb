{
 "cells": [
  {
   "cell_type": "code",
   "execution_count": 1,
   "metadata": {},
   "outputs": [],
   "source": [
    "import pandas as pd\n",
    "import numpy as np\n",
    "import os\n",
    "import glob\n",
    "import matplotlib.pyplot as plt"
   ]
  },
  {
   "cell_type": "code",
   "execution_count": 2,
   "metadata": {},
   "outputs": [],
   "source": [
    "class PDF(object):\n",
    "    def __init__(self, pdf, size=(200,200)):\n",
    "        self.pdf = pdf\n",
    "        self.size = size\n",
    "\n",
    "    def _repr_html_(self):\n",
    "        return '<iframe src={0} width={1[0]} height={1[1]}></iframe>'.format(self.pdf, self.size)\n",
    "\n",
    "    def _repr_latex_(self):\n",
    "        return r'\\includegraphics[width=1.0\\textwidth]{{{0}}}'.format(self.pdf)"
   ]
  },
  {
   "cell_type": "code",
   "execution_count": 3,
   "metadata": {},
   "outputs": [],
   "source": [
    "!mkdir -p ./5.coup_delta_heatmap"
   ]
  },
  {
   "cell_type": "code",
   "execution_count": 4,
   "metadata": {},
   "outputs": [],
   "source": [
    "os.chdir('/home/jlyu/res_lambda/Run_On_Lvjie/5.coup_delta_heatmap/')"
   ]
  },
  {
   "cell_type": "markdown",
   "metadata": {},
   "source": [
    "Discussion with Hong\n",
    "\n",
    "The peaks center not obvious on the delta heatmap, so we using the real center of the peaks;\n",
    "\n",
    "Do not plot the peak region and just + - 5k"
   ]
  },
  {
   "cell_type": "markdown",
   "metadata": {},
   "source": [
    "# Tester the reference point does not having the same outputs as the 1.2_peak.pdf\n",
    "\n",
    "1_2.peak.pdf using the coup bed file to plot the heatmap, which has the phenomena that the signal spans across the whole region\n",
    "\n",
    "while using the delta heatmap the results does not show such pattern\n",
    "\n",
    "Correspondence:\n",
    "The 1_2.peak.pdf have wide signal spanning across +- 5k due to the plot are stretched vertically and the color box becomes larger\n",
    "Another reason is the bin size; small binsize having the small signal values"
   ]
  },
  {
   "cell_type": "markdown",
   "metadata": {},
   "source": [
    "## 1.1 Use the union of the T1 WT to do the heatmap plot"
   ]
  },
  {
   "cell_type": "code",
   "execution_count": 19,
   "metadata": {},
   "outputs": [],
   "source": [
    "ctrl = 'ENL'\n",
    "treats = ['T1', 'T2', 'T3', 'Y78A']\n",
    "# sigpath: store the previous generated merged peaks signal for T and wt\n",
    "sigpath = './res_avg_signal/' \n",
    "# outpath = './res_delta_heatmap/'\n",
    "outpath = './res_delta_heatmap/peak_center_no_flank_5k/'\n",
    "bwpath = '/home/xc3/output/ENL2/ChIP/bw_nsp/'\n",
    "exp = '293'\n",
    "treat = treats[0]"
   ]
  },
  {
   "cell_type": "code",
   "execution_count": 38,
   "metadata": {},
   "outputs": [
    {
     "name": "stdout",
     "output_type": "stream",
     "text": [
      "awk 'BEGIN{OFS=\"\\t\"}{if (NR > 1) print $1, $2, $3,NR-2,\".\", \"+\"}' ./res_avg_signal/293_T1_WT.merge.sig.anno.pval.txt > ./res_delta_heatmap/peak_center_no_flank_5k/T1.bed\n",
      "****\n",
      "computeMatrix reference-point --referencePoint center -b 5000 -a 5000 -bs 100 --missingDataAsZero -R ./res_delta_heatmap/peak_center_no_flank_5k/T1.bed -S /home/xc3/output/ENL2/ChIP/bw_nsp/293_F_T1_treat.nsp.bw /home/xc3/output/ENL2/ChIP/bw_nsp/293_F_ENL_treat.nsp.bw  --skipZeros -o ./res_delta_heatmap/peak_center_no_flank_5k/293_T1_ENL.scale.gz --outFileNameMatrix ./res_delta_heatmap/peak_center_no_flank_5k/293_T1_ENL.scale.txt \n",
      "\n",
      "\n",
      "plotHeatmap --sortUsingSamples 1 -m ./res_delta_heatmap/peak_center_no_flank_5k/293_T1_ENL.scale.gz -out ./res_delta_heatmap/peak_center_no_flank_5k/test.peak.pdf --outFileNameMatrix test.mat --colorMap Blues Blues  --dpi 300 --refPointLabel center\n"
     ]
    },
    {
     "data": {
      "text/plain": [
       "0"
      ]
     },
     "execution_count": 38,
     "metadata": {},
     "output_type": "execute_result"
    }
   ],
   "source": [
    "    sigfile = f'{sigpath}293_{treat}_WT.merge.sig.anno.pval.txt'\n",
    "    line = \"awk \\'BEGIN{OFS=\\\"\\\\t\\\"}{if (NR > 1) print $1, $2, $3,NR-2,\\\".\\\", \\\"+\\\"}\\'\" + f' {sigfile} > {outpath}{treat}.bed'\n",
    "    print(line + '\\n****')\n",
    "    os.system(line)\n",
    "    bw_files = [\n",
    "            glob.glob(bwpath + exp + '*' + tmp + '*.bw')[0]\n",
    "            for tmp in [treat, ctrl]\n",
    "    ]\n",
    "    bw_files_format = len(bw_files) * \"{} \"\n",
    "    bw_files_format = bw_files_format.format(*bw_files)\n",
    "    bed_file_format = f'{outpath}{treat}.bed'\n",
    "    command = \"computeMatrix reference-point --referencePoint center -b 5000 -a 5000 -bs 100 --missingDataAsZero -R {0} -S {1} --skipZeros -o {2}.scale.gz --outFileNameMatrix {3}.scale.txt \".format(\n",
    "    bed_file_format, bw_files_format,\n",
    "    outpath + exp + '_' + treat + '_' + ctrl,\n",
    "    outpath + exp + '_' + treat + '_' + ctrl)\n",
    "    print(command + '\\n\\n')\n",
    "    os.system(command)\n",
    "#     os.system(\n",
    "#         'rm {}.scale.gz'.format(outpath + exp + '_' + treat + '_' + ctrl))     \n",
    "    line = f'plotHeatmap --sortUsingSamples 1 -m {outpath}293_T1_ENL.scale.gz -out {outpath}test.peak.pdf \\\n",
    "    --outFileNameMatrix test.mat --colorMap Blues Blues  --dpi 300 --refPointLabel center'\n",
    "    print(line)\n",
    "    os.system(line)"
   ]
  },
  {
   "cell_type": "markdown",
   "metadata": {},
   "source": [
    "# 3. The delta heatmap for 1.2 coup peaks\n",
    "\n",
    "previous created delta heatmap by jiejun has wider signal spread\n",
    "Another reason is that when we plot the tss region, lots of genes shared the same region, so the color box is huge"
   ]
  },
  {
   "cell_type": "code",
   "execution_count": 5,
   "metadata": {},
   "outputs": [
    {
     "name": "stdout",
     "output_type": "stream",
     "text": [
      "/home/jlyu/xc3/experiment/ENL2/Chip-seq_analysis/no_spike_in/re_do_mapping_with_lambda/Run_On_Lvjie/4.coup_peaks\r\n"
     ]
    }
   ],
   "source": [
    "workPath = '/home/jlyu/xc3/experiment/ENL2/Chip-seq_analysis/no_spike_in/re_do_mapping_with_lambda/Run_On_Lvjie/4.coup_peaks/'\n",
    "os.chdir(workPath)\n",
    "!pwd"
   ]
  },
  {
   "cell_type": "code",
   "execution_count": 67,
   "metadata": {},
   "outputs": [
    {
     "name": "stdout",
     "output_type": "stream",
     "text": [
      "awk 'BEGIN{OFS=\"\\t\"}{if (NR>1){print $1,$2,$3,NR-2,\".\",\"+\"}}' 293.all.1_2.sig.anno.txt > 293.all.1_2.new.heat.bed\n"
     ]
    }
   ],
   "source": [
    "#format the bed file into the bed file add three columns more; \n",
    "names = ['1_2']\n",
    "for name in names:\n",
    "    Bed = f'293.all.{name}.sig.anno.txt'\n",
    "    outBed = f'293.all.{name}.new.heat.bed'\n",
    "    line = \"awk 'BEGIN{OFS=\\\"\\\\t\\\"}{if (NR>1){print $1,$2,$3,NR-2,\\\".\\\",\\\"+\\\"}}'\" + f' {Bed} > {outBed}'\n",
    "    print(line)\n",
    "    os.system(line)"
   ]
  },
  {
   "cell_type": "markdown",
   "metadata": {},
   "source": [
    "## for each pair sample extract the binning signal"
   ]
  },
  {
   "cell_type": "code",
   "execution_count": 92,
   "metadata": {},
   "outputs": [
    {
     "name": "stdout",
     "output_type": "stream",
     "text": [
      "/home/xc3/output/ENL2/ChIP/bw_nsp/293_F_T1_treat.nsp.bw\n",
      "~/software/deeptools/bin/computeMatrix reference-point --referencePoint center -S /home/xc3/output/ENL2/ChIP/bw_nsp/293_F_T1_treat.nsp.bw -R 293.all.1_2.new.heat.bed --beforeRegionStartLength 5000 --afterRegionStartLength 5000 --binSize 100 --skipZeros --missingDataAsZero -o PeakMatrix_293_F_T1_co-UP_genes.gz -p 8\n",
      "****\n",
      "\n",
      "/home/xc3/output/ENL2/ChIP/bw_nsp/293_F_T2_treat.nsp.bw\n",
      "~/software/deeptools/bin/computeMatrix reference-point --referencePoint center -S /home/xc3/output/ENL2/ChIP/bw_nsp/293_F_T2_treat.nsp.bw -R 293.all.1_2.new.heat.bed --beforeRegionStartLength 5000 --afterRegionStartLength 5000 --binSize 100 --skipZeros --missingDataAsZero -o PeakMatrix_293_F_T2_co-UP_genes.gz -p 8\n",
      "****\n",
      "\n",
      "/home/xc3/output/ENL2/ChIP/bw_nsp/293_F_T3_treat.nsp.bw\n",
      "~/software/deeptools/bin/computeMatrix reference-point --referencePoint center -S /home/xc3/output/ENL2/ChIP/bw_nsp/293_F_T3_treat.nsp.bw -R 293.all.1_2.new.heat.bed --beforeRegionStartLength 5000 --afterRegionStartLength 5000 --binSize 100 --skipZeros --missingDataAsZero -o PeakMatrix_293_F_T3_co-UP_genes.gz -p 8\n",
      "****\n",
      "\n",
      "/home/xc3/output/ENL2/ChIP/bw_nsp/293_F_Y78A_treat.nsp.bw\n",
      "~/software/deeptools/bin/computeMatrix reference-point --referencePoint center -S /home/xc3/output/ENL2/ChIP/bw_nsp/293_F_Y78A_treat.nsp.bw -R 293.all.1_2.new.heat.bed --beforeRegionStartLength 5000 --afterRegionStartLength 5000 --binSize 100 --skipZeros --missingDataAsZero -o PeakMatrix_293_F_Y78A_co-UP_genes.gz -p 8\n",
      "****\n",
      "\n",
      "/home/xc3/output/ENL2/ChIP/bw_nsp/293_F_ENL_treat.nsp.bw\n",
      "~/software/deeptools/bin/computeMatrix reference-point --referencePoint center -S /home/xc3/output/ENL2/ChIP/bw_nsp/293_F_ENL_treat.nsp.bw -R 293.all.1_2.new.heat.bed --beforeRegionStartLength 5000 --afterRegionStartLength 5000 --binSize 100 --skipZeros --missingDataAsZero -o PeakMatrix_293_F_ENL_co-UP_genes.gz -p 8\n",
      "****\n",
      "\n"
     ]
    }
   ],
   "source": [
    "samples = treats + [ctrl]\n",
    "for sample in samples:\n",
    "    bwfile = glob.glob(bwpath + exp + '*' + sample + '*.bw')[0]\n",
    "    outBed = \"293.all.1_2.new.heat.bed\"\n",
    "    print(bwfile)\n",
    "    line = f'~/software/deeptools/bin/computeMatrix reference-point --referencePoint center -S {bwfile} -R {outBed} --beforeRegionStartLength 5000 --afterRegionStartLength 5000 --binSize 100 --skipZeros --missingDataAsZero -o PeakMatrix_293_F_{sample}_co-UP_genes.gz -p 8'\n",
    "    print(line + '\\n****\\n')\n",
    "    os.system(line)"
   ]
  },
  {
   "cell_type": "code",
   "execution_count": 91,
   "metadata": {},
   "outputs": [
    {
     "name": "stdout",
     "output_type": "stream",
     "text": [
      "chr15\t96872571\t96885658\t0\t.\t+\n",
      "chr7\t5457629\t5470124\t1\t.\t+\n",
      "chr6\t1608510\t1616027\t2\t.\t+\n",
      "chr17\t79368489\t79375603\t3\t.\t+\n",
      "chr12\t12869276\t12879696\t4\t.\t+\n",
      "chr11\t65186288\t65204652\t5\t.\t+\n",
      "chr7\t27197889\t27240775\t6\t.\t+\n",
      "chr11\t65264641\t65277345\t7\t.\t+\n",
      "chr18\t19747704\t19753749\t8\t.\t+\n",
      "chr6\t32934633\t32953286\t9\t.\t+\n",
      "/home/xc3/experiment/ENL2/Chip-seq_analysis/no_spike_in/re_do_mapping_with_lambda/res_heatmap_coup_peaks\n"
     ]
    }
   ],
   "source": []
  },
  {
   "cell_type": "code",
   "execution_count": null,
   "metadata": {},
   "outputs": [],
   "source": []
  },
  {
   "cell_type": "code",
   "execution_count": null,
   "metadata": {},
   "outputs": [],
   "source": []
  },
  {
   "cell_type": "code",
   "execution_count": null,
   "metadata": {},
   "outputs": [],
   "source": []
  },
  {
   "cell_type": "code",
   "execution_count": null,
   "metadata": {},
   "outputs": [],
   "source": []
  },
  {
   "cell_type": "code",
   "execution_count": null,
   "metadata": {},
   "outputs": [],
   "source": []
  }
 ],
 "metadata": {
  "kernelspec": {
   "display_name": "Python 3",
   "language": "python",
   "name": "python3"
  },
  "language_info": {
   "codemirror_mode": {
    "name": "ipython",
    "version": 3
   },
   "file_extension": ".py",
   "mimetype": "text/x-python",
   "name": "python",
   "nbconvert_exporter": "python",
   "pygments_lexer": "ipython3",
   "version": "3.6.5"
  }
 },
 "nbformat": 4,
 "nbformat_minor": 2
}
