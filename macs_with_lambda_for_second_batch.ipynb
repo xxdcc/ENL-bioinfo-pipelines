{
 "cells": [
  {
   "cell_type": "code",
   "execution_count": 17,
   "metadata": {},
   "outputs": [],
   "source": [
    "import glob\n",
    "import os\n",
    "import pandas as pd\n",
    "import numpy as np\n"
   ]
  },
  {
   "cell_type": "code",
   "execution_count": 28,
   "metadata": {},
   "outputs": [],
   "source": [
    "os.chdir('/home/jlyu/xc3/experiment/ENL2/Chip-seq_analysis/second_batch/no_spike_in/Run_on_jie_lambda_2rd/')"
   ]
  },
  {
   "cell_type": "code",
   "execution_count": 34,
   "metadata": {},
   "outputs": [],
   "source": [
    "!mkdir -p ./2.Re_do_with_lambda_macs "
   ]
  },
  {
   "cell_type": "code",
   "execution_count": 18,
   "metadata": {},
   "outputs": [],
   "source": [
    "# configure the parameters\n",
    "nodes_ppn = [1, 1]\n",
    "memory = 16\n",
    "wait_time = [20, 00]\n",
    "quene = \"medium\"\n",
    "inpath = '/mount/weili4/xc3/ENL2_ChIP2/data/'\n",
    "exps = ['293*']\n",
    "ctrl = 'input*'\n",
    "outpath = '/mount/weili4/xc3/ENL2_ChIP2/res_nsp_lambda/'\n",
    "exp = exps[0]"
   ]
  },
  {
   "cell_type": "code",
   "execution_count": 19,
   "metadata": {},
   "outputs": [],
   "source": [
    "# !mkdir -p $outpath\n",
    "# !ls $outpath"
   ]
  },
  {
   "cell_type": "code",
   "execution_count": 14,
   "metadata": {},
   "outputs": [
    {
     "data": {
      "text/plain": [
       "'/mount/weili4/xc3/ENL2_ChIP2/data/293*F*/*.bowtie.bed.nsp.shuf'"
      ]
     },
     "execution_count": 14,
     "metadata": {},
     "output_type": "execute_result"
    }
   ],
   "source": [
    "inpath+exp+treat+'/*.bowtie.bed.nsp.shuf'"
   ]
  },
  {
   "cell_type": "code",
   "execution_count": 22,
   "metadata": {},
   "outputs": [
    {
     "name": "stdout",
     "output_type": "stream",
     "text": [
      "['/mount/weili4/xc3/ENL2_ChIP2/data/293_T4_S34/293_T4_S34.bowtie.bed.nsp.shuf', '/mount/weili4/xc3/ENL2_ChIP2/data/293_T1_Y78A/293_T1_Y78A.bowtie.bed.nsp.shuf', '/mount/weili4/xc3/ENL2_ChIP2/data/293_T3_Y78A/293_T3_Y78A.bowtie.bed.nsp.shuf', '/mount/weili4/xc3/ENL2_ChIP2/data/293_ENL_C/293_ENL_C.bowtie.bed.nsp.shuf', '/mount/weili4/xc3/ENL2_ChIP2/data/293_T3_B/293_T3_B.bowtie.bed.nsp.shuf', '/mount/weili4/xc3/ENL2_ChIP2/data/293_ENL_B/293_ENL_B.bowtie.bed.nsp.shuf', '/mount/weili4/xc3/ENL2_ChIP2/data/293_T2_B/293_T2_B.bowtie.bed.nsp.shuf', '/mount/weili4/xc3/ENL2_ChIP2/data/293_T1_B/293_T1_B.bowtie.bed.nsp.shuf', '/mount/weili4/xc3/ENL2_ChIP2/data/293_T3_C/293_T3_C.bowtie.bed.nsp.shuf', '/mount/weili4/xc3/ENL2_ChIP2/data/293_T2_Y78A/293_T2_Y78A.bowtie.bed.nsp.shuf', '/mount/weili4/xc3/ENL2_ChIP2/data/293_T2_C/293_T2_C.bowtie.bed.nsp.shuf', '/mount/weili4/xc3/ENL2_ChIP2/data/293_T1_C/293_T1_C.bowtie.bed.nsp.shuf', '/mount/weili4/xc3/ENL2_ChIP2/data/293_Y78A_B/293_Y78A_B.bowtie.bed.nsp.shuf', '/mount/weili4/xc3/ENL2_ChIP2/data/293_Y78A_C/293_Y78A_C.bowtie.bed.nsp.shuf', '/mount/weili4/xc3/ENL2_ChIP2/data/293_vec_B_C/293_vec_B_C.bowtie.bed.nsp.shuf', '/mount/weili4/xc3/ENL2_ChIP2/data/293_input_S32/293_input_S32.bowtie.bed.nsp.shuf']\n"
     ]
    }
   ],
   "source": [
    "treat_files = glob.glob(inpath+exp+'/*.bowtie.bed.nsp.shuf')\n",
    "print(treat_files)"
   ]
  },
  {
   "cell_type": "code",
   "execution_count": 23,
   "metadata": {},
   "outputs": [],
   "source": [
    "ctrl_file = treat_files.pop()"
   ]
  },
  {
   "cell_type": "code",
   "execution_count": 29,
   "metadata": {},
   "outputs": [
    {
     "name": "stdout",
     "output_type": "stream",
     "text": [
      "/home/jlyu/xc3/experiment/ENL2/Chip-seq_analysis/second_batch/no_spike_in/Run_on_jie_lambda_2rd\r\n"
     ]
    }
   ],
   "source": [
    "!pwd"
   ]
  },
  {
   "cell_type": "code",
   "execution_count": 26,
   "metadata": {},
   "outputs": [
    {
     "data": {
      "text/plain": [
       "['/mount/weili4/xc3/ENL2_ChIP2/data/293_T4_S34/293_T4_S34.bowtie.bed.nsp.shuf',\n",
       " '/mount/weili4/xc3/ENL2_ChIP2/data/293_T1_Y78A/293_T1_Y78A.bowtie.bed.nsp.shuf',\n",
       " '/mount/weili4/xc3/ENL2_ChIP2/data/293_T3_Y78A/293_T3_Y78A.bowtie.bed.nsp.shuf',\n",
       " '/mount/weili4/xc3/ENL2_ChIP2/data/293_ENL_C/293_ENL_C.bowtie.bed.nsp.shuf',\n",
       " '/mount/weili4/xc3/ENL2_ChIP2/data/293_T3_B/293_T3_B.bowtie.bed.nsp.shuf',\n",
       " '/mount/weili4/xc3/ENL2_ChIP2/data/293_ENL_B/293_ENL_B.bowtie.bed.nsp.shuf',\n",
       " '/mount/weili4/xc3/ENL2_ChIP2/data/293_T2_B/293_T2_B.bowtie.bed.nsp.shuf',\n",
       " '/mount/weili4/xc3/ENL2_ChIP2/data/293_T1_B/293_T1_B.bowtie.bed.nsp.shuf',\n",
       " '/mount/weili4/xc3/ENL2_ChIP2/data/293_T3_C/293_T3_C.bowtie.bed.nsp.shuf',\n",
       " '/mount/weili4/xc3/ENL2_ChIP2/data/293_T2_Y78A/293_T2_Y78A.bowtie.bed.nsp.shuf',\n",
       " '/mount/weili4/xc3/ENL2_ChIP2/data/293_T2_C/293_T2_C.bowtie.bed.nsp.shuf',\n",
       " '/mount/weili4/xc3/ENL2_ChIP2/data/293_T1_C/293_T1_C.bowtie.bed.nsp.shuf',\n",
       " '/mount/weili4/xc3/ENL2_ChIP2/data/293_Y78A_B/293_Y78A_B.bowtie.bed.nsp.shuf',\n",
       " '/mount/weili4/xc3/ENL2_ChIP2/data/293_Y78A_C/293_Y78A_C.bowtie.bed.nsp.shuf',\n",
       " '/mount/weili4/xc3/ENL2_ChIP2/data/293_vec_B_C/293_vec_B_C.bowtie.bed.nsp.shuf']"
      ]
     },
     "execution_count": 26,
     "metadata": {},
     "output_type": "execute_result"
    }
   ],
   "source": [
    "treat_files"
   ]
  },
  {
   "cell_type": "code",
   "execution_count": 30,
   "metadata": {},
   "outputs": [],
   "source": [
    "# open the initialization header for pbs and read the contents\n",
    "with open('/home/jlyu/xc3/experiment/initial.pbs','r') as f:\n",
    "\tpbs_header = f.readlines()\n",
    "\n",
    "for exp in exps:\n",
    "\tnames = [ifile.split('/')[-2] for ifile in treat_files]\n",
    "\n",
    "\tfor i, treat_file in enumerate(treat_files):\n",
    "\t\texperiment_name = \"macs_{}.ato\".format(names[i])\n",
    "\t\twith open(experiment_name,'w') as f:\n",
    "\n",
    "\t\t\tpbs_initial = pbs_header[:]\n",
    "\t\t\t# configuration for the experiments\n",
    "\t\t\t# pbs_initial[1]::job name\n",
    "\t\t\tpbs_initial[1] = pbs_initial[1].format(str(names[i]))\n",
    "\t\t\t# pbs_initial[2]::nodes and ppn\n",
    "\t\t\tpbs_initial[2] = pbs_initial[2].format(*nodes_ppn)\n",
    "\t\t\t# pbs_initial[4]::memeroy\n",
    "\t\t\tpbs_initial[4] = pbs_initial[4].format(memory)\n",
    "\t\t\t# pbs_initial[5]::waiting time\n",
    "\t\t\tpbs_initial[5] = pbs_initial[5].format(*wait_time)\n",
    "\t\t\t# pbs_initial[11]::err output\n",
    "\t\t\tpbs_initial[11] = pbs_initial[11].format(names[i])\n",
    "\t\t\t# pbs_initial[12]::log\n",
    "\t\t\tpbs_initial[12] = pbs_initial[12].format(names[i])\n",
    "\t\t\t# pbs_initial[14]::quene\n",
    "\t\t\tpbs_initial[14] = pbs_initial[14].format(quene)\n",
    "\n",
    "\t\t\t\n",
    "\t\t\t# write all the configurations into the pbs file\n",
    "\t\t\tfor line in pbs_initial:\n",
    "\t\t\t\tf.write(line)\n",
    "\n",
    "\t\t\t# write the shuf code\n",
    "\t\t\tline =\"macs14 -t {} -c {} -n {}.nsp --nomodel -g hs --wig -S -p 1e-8\".format(treat_files[i], ctrl_file, outpath + names[i])\n",
    "\t\t\t\n",
    "\t\t\tf.write(line)"
   ]
  },
  {
   "cell_type": "code",
   "execution_count": 35,
   "metadata": {},
   "outputs": [],
   "source": [
    "!mv *.ato ./2.Re_do_with_lambda_macs/\n"
   ]
  },
  {
   "cell_type": "code",
   "execution_count": 36,
   "metadata": {},
   "outputs": [
    {
     "name": "stdout",
     "output_type": "stream",
     "text": [
      "2.Re_do_with_lambda_macs\r\n"
     ]
    }
   ],
   "source": []
  },
  {
   "cell_type": "code",
   "execution_count": null,
   "metadata": {},
   "outputs": [],
   "source": []
  },
  {
   "cell_type": "code",
   "execution_count": null,
   "metadata": {},
   "outputs": [],
   "source": []
  },
  {
   "cell_type": "code",
   "execution_count": null,
   "metadata": {},
   "outputs": [],
   "source": []
  },
  {
   "cell_type": "code",
   "execution_count": null,
   "metadata": {},
   "outputs": [],
   "source": []
  },
  {
   "cell_type": "code",
   "execution_count": null,
   "metadata": {},
   "outputs": [],
   "source": []
  },
  {
   "cell_type": "code",
   "execution_count": null,
   "metadata": {},
   "outputs": [],
   "source": []
  },
  {
   "cell_type": "code",
   "execution_count": null,
   "metadata": {},
   "outputs": [],
   "source": []
  },
  {
   "cell_type": "code",
   "execution_count": null,
   "metadata": {},
   "outputs": [],
   "source": []
  },
  {
   "cell_type": "code",
   "execution_count": null,
   "metadata": {},
   "outputs": [],
   "source": []
  },
  {
   "cell_type": "code",
   "execution_count": null,
   "metadata": {},
   "outputs": [],
   "source": []
  },
  {
   "cell_type": "code",
   "execution_count": null,
   "metadata": {},
   "outputs": [],
   "source": []
  },
  {
   "cell_type": "code",
   "execution_count": null,
   "metadata": {},
   "outputs": [],
   "source": []
  },
  {
   "cell_type": "code",
   "execution_count": null,
   "metadata": {},
   "outputs": [],
   "source": []
  },
  {
   "cell_type": "code",
   "execution_count": null,
   "metadata": {},
   "outputs": [],
   "source": []
  },
  {
   "cell_type": "code",
   "execution_count": null,
   "metadata": {},
   "outputs": [],
   "source": []
  },
  {
   "cell_type": "code",
   "execution_count": null,
   "metadata": {},
   "outputs": [],
   "source": []
  },
  {
   "cell_type": "code",
   "execution_count": null,
   "metadata": {},
   "outputs": [],
   "source": []
  },
  {
   "cell_type": "code",
   "execution_count": null,
   "metadata": {},
   "outputs": [],
   "source": []
  },
  {
   "cell_type": "code",
   "execution_count": null,
   "metadata": {},
   "outputs": [],
   "source": []
  },
  {
   "cell_type": "code",
   "execution_count": null,
   "metadata": {},
   "outputs": [],
   "source": []
  },
  {
   "cell_type": "code",
   "execution_count": null,
   "metadata": {},
   "outputs": [],
   "source": []
  },
  {
   "cell_type": "code",
   "execution_count": null,
   "metadata": {},
   "outputs": [],
   "source": []
  }
 ],
 "metadata": {
  "kernelspec": {
   "display_name": "Python 3",
   "language": "python",
   "name": "python3"
  },
  "language_info": {
   "codemirror_mode": {
    "name": "ipython",
    "version": 3
   },
   "file_extension": ".py",
   "mimetype": "text/x-python",
   "name": "python",
   "nbconvert_exporter": "python",
   "pygments_lexer": "ipython3",
   "version": "3.6.5"
  }
 },
 "nbformat": 4,
 "nbformat_minor": 2
}
