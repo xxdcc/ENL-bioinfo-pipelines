{
 "cells": [
  {
   "cell_type": "code",
   "execution_count": 1,
   "metadata": {},
   "outputs": [],
   "source": [
    "import pandas as pd\n",
    "import numpy as np\n",
    "import os\n",
    "import glob\n",
    "import matplotlib.pyplot as plt"
   ]
  },
  {
   "cell_type": "code",
   "execution_count": 41,
   "metadata": {},
   "outputs": [],
   "source": [
    "class PDF(object):\n",
    "    def __init__(self, pdf, size=(200,200)):\n",
    "        self.pdf = pdf\n",
    "        self.size = size\n",
    "\n",
    "    def _repr_html_(self):\n",
    "        return '<iframe src={0} width={1[0]} height={1[1]}></iframe>'.format(self.pdf, self.size)\n",
    "\n",
    "    def _repr_latex_(self):\n",
    "        return r'\\includegraphics[width=1.0\\textwidth]{{{0}}}'.format(self.pdf)"
   ]
  },
  {
   "cell_type": "markdown",
   "metadata": {},
   "source": [
    "Discussion with Hong\n",
    "\n",
    "The peaks center not obvious on the delta heatmap, so we using the real center of the peaks;\n",
    "\n",
    "Do not plot the peak region and just + - 5k"
   ]
  },
  {
   "cell_type": "markdown",
   "metadata": {},
   "source": [
    "# Tester the reference point does not having the same outputs as the 1.2_peak.pdf\n",
    "\n",
    "1_2.peak.pdf using the coup bed file to plot the heatmap, which has the phenomena that the signal spans across the whole region\n",
    "\n",
    "while using the delta heatmap the results does not show such pattern\n",
    "\n",
    "Correspondence:\n",
    "The 1_2.peak.pdf have wide signal spanning across +- 5k due to the plot are stretched vertically and the color box becomes larger\n",
    "Another reason is the bin size; small binsize having the small signal values"
   ]
  },
  {
   "cell_type": "markdown",
   "metadata": {},
   "source": [
    "## 1.1 Use the union of the T1 WT to do the heatmap plot"
   ]
  },
  {
   "cell_type": "code",
   "execution_count": 19,
   "metadata": {},
   "outputs": [],
   "source": [
    "ctrl = 'ENL'\n",
    "treats = ['T1', 'T2', 'T3', 'Y78A']\n",
    "# sigpath: store the previous generated merged peaks signal for T and wt\n",
    "sigpath = './res_avg_signal/' \n",
    "# outpath = './res_delta_heatmap/'\n",
    "outpath = './res_delta_heatmap/peak_center_no_flank_5k/'\n",
    "bwpath = '/home/xc3/output/ENL2/ChIP/bw_nsp/'\n",
    "exp = '293'\n",
    "treat = treats[0]"
   ]
  },
  {
   "cell_type": "code",
   "execution_count": 38,
   "metadata": {},
   "outputs": [
    {
     "name": "stdout",
     "output_type": "stream",
     "text": [
      "awk 'BEGIN{OFS=\"\\t\"}{if (NR > 1) print $1, $2, $3,NR-2,\".\", \"+\"}' ./res_avg_signal/293_T1_WT.merge.sig.anno.pval.txt > ./res_delta_heatmap/peak_center_no_flank_5k/T1.bed\n",
      "****\n",
      "computeMatrix reference-point --referencePoint center -b 5000 -a 5000 -bs 100 --missingDataAsZero -R ./res_delta_heatmap/peak_center_no_flank_5k/T1.bed -S /home/xc3/output/ENL2/ChIP/bw_nsp/293_F_T1_treat.nsp.bw /home/xc3/output/ENL2/ChIP/bw_nsp/293_F_ENL_treat.nsp.bw  --skipZeros -o ./res_delta_heatmap/peak_center_no_flank_5k/293_T1_ENL.scale.gz --outFileNameMatrix ./res_delta_heatmap/peak_center_no_flank_5k/293_T1_ENL.scale.txt \n",
      "\n",
      "\n",
      "plotHeatmap --sortUsingSamples 1 -m ./res_delta_heatmap/peak_center_no_flank_5k/293_T1_ENL.scale.gz -out ./res_delta_heatmap/peak_center_no_flank_5k/test.peak.pdf --outFileNameMatrix test.mat --colorMap Blues Blues  --dpi 300 --refPointLabel center\n"
     ]
    },
    {
     "data": {
      "text/plain": [
       "0"
      ]
     },
     "execution_count": 38,
     "metadata": {},
     "output_type": "execute_result"
    }
   ],
   "source": [
    "    sigfile = f'{sigpath}293_{treat}_WT.merge.sig.anno.pval.txt'\n",
    "    line = \"awk \\'BEGIN{OFS=\\\"\\\\t\\\"}{if (NR > 1) print $1, $2, $3,NR-2,\\\".\\\", \\\"+\\\"}\\'\" + f' {sigfile} > {outpath}{treat}.bed'\n",
    "    print(line + '\\n****')\n",
    "    os.system(line)\n",
    "    bw_files = [\n",
    "            glob.glob(bwpath + exp + '*' + tmp + '*.bw')[0]\n",
    "            for tmp in [treat, ctrl]\n",
    "    ]\n",
    "    bw_files_format = len(bw_files) * \"{} \"\n",
    "    bw_files_format = bw_files_format.format(*bw_files)\n",
    "    bed_file_format = f'{outpath}{treat}.bed'\n",
    "    command = \"computeMatrix reference-point --referencePoint center -b 5000 -a 5000 -bs 100 --missingDataAsZero -R {0} -S {1} --skipZeros -o {2}.scale.gz --outFileNameMatrix {3}.scale.txt \".format(\n",
    "    bed_file_format, bw_files_format,\n",
    "    outpath + exp + '_' + treat + '_' + ctrl,\n",
    "    outpath + exp + '_' + treat + '_' + ctrl)\n",
    "    print(command + '\\n\\n')\n",
    "    os.system(command)\n",
    "#     os.system(\n",
    "#         'rm {}.scale.gz'.format(outpath + exp + '_' + treat + '_' + ctrl))     \n",
    "    line = f'plotHeatmap --sortUsingSamples 1 -m {outpath}293_T1_ENL.scale.gz -out {outpath}test.peak.pdf \\\n",
    "    --outFileNameMatrix test.mat --colorMap Blues Blues  --dpi 300 --refPointLabel center'\n",
    "    print(line)\n",
    "    os.system(line)"
   ]
  },
  {
   "cell_type": "code",
   "execution_count": 37,
   "metadata": {},
   "outputs": [
    {
     "data": {
      "text/html": [
       "<iframe src=./res_delta_heatmap/peak_center_no_flank_5k/test.peak.pdf width=300 height=250></iframe>"
      ],
      "text/latex": [
       "\\includegraphics[width=1.0\\textwidth]{./res_delta_heatmap/peak_center_no_flank_5k/test.peak.pdf}"
      ],
      "text/plain": [
       "<__main__.PDF at 0x2b0573b6ab00>"
      ]
     },
     "execution_count": 37,
     "metadata": {},
     "output_type": "execute_result"
    }
   ],
   "source": [
    "PDF(f'{outpath}test.peak.pdf',size=(300,250))"
   ]
  },
  {
   "cell_type": "markdown",
   "metadata": {},
   "source": [
    "#### 1.2 Use the different bin size to plot the co up gene list"
   ]
  },
  {
   "cell_type": "code",
   "execution_count": 43,
   "metadata": {},
   "outputs": [],
   "source": [
    "coup_path = '/home/xc3/experiment/ENL2/Chip-seq_analysis/no_spike_in/re_do_mapping_with_lambda/res_heatmap_coup_peaks/'\n",
    "ths = [1.2, 1.5]\n",
    "names = ['1_2','1_5']"
   ]
  },
  {
   "cell_type": "code",
   "execution_count": 52,
   "metadata": {},
   "outputs": [
    {
     "name": "stdout",
     "output_type": "stream",
     "text": [
      "~/software/deeptools/bin/computeMatrix reference-point --referencePoint center -S /home/xc3/output/ENL2/ChIP/bw_nsp/293_F_ENL_treat.nsp.bw /home/xc3/output/ENL2/ChIP/bw_nsp/293_F_T1_treat.nsp.bw /home/xc3/output/ENL2/ChIP/bw_nsp/293_F_T2_treat.nsp.bw /home/xc3/output/ENL2/ChIP/bw_nsp/293_F_T3_treat.nsp.bw /home/xc3/output/ENL2/ChIP/bw_nsp/293_F_Y78A_treat.nsp.bw -R /home/xc3/experiment/ENL2/Chip-seq_analysis/no_spike_in/re_do_mapping_with_lambda/res_heatmap_coup_peaks/293.all.1_2.heat.bed --beforeRegionStartLength 5000 --afterRegionStartLength 5000 --binSize 50 --skipZeros --missingDataAsZero -o ./res_delta_heatmap/peak_center_no_flank_5k/1_2.Ts.ENL.peak.gz -p 8\n",
      "~/software/deeptools/bin/computeMatrix reference-point --referencePoint center -S /home/xc3/output/ENL2/ChIP/bw_nsp/293_F_ENL_treat.nsp.bw /home/xc3/output/ENL2/ChIP/bw_nsp/293_F_T1_treat.nsp.bw /home/xc3/output/ENL2/ChIP/bw_nsp/293_F_T2_treat.nsp.bw /home/xc3/output/ENL2/ChIP/bw_nsp/293_F_T3_treat.nsp.bw /home/xc3/output/ENL2/ChIP/bw_nsp/293_F_Y78A_treat.nsp.bw -R /home/xc3/experiment/ENL2/Chip-seq_analysis/no_spike_in/re_do_mapping_with_lambda/res_heatmap_coup_peaks/293.all.1_5.heat.bed --beforeRegionStartLength 5000 --afterRegionStartLength 5000 --binSize 50 --skipZeros --missingDataAsZero -o ./res_delta_heatmap/peak_center_no_flank_5k/1_5.Ts.ENL.peak.gz -p 8\n"
     ]
    }
   ],
   "source": [
    "bwpath = '/home/xc3/output/ENL2/ChIP/bw_nsp/'\n",
    "exp = '293'\n",
    "bwfiles = glob.glob(bwpath+exp+'*.bw')\n",
    "bwfiles.sort()\n",
    "bwfiles = bwfiles[:5]\n",
    "for name in names:\n",
    "    outBed = f'{coup_path}293.all.{name}.heat.bed'\n",
    "    bw_files_format = ' '.join(bwfiles)\n",
    "    outFile = f'{outpath}{name}'\n",
    "    line = f'~/software/deeptools/bin/computeMatrix reference-point --referencePoint center -S {bw_files_format} -R {outBed} --beforeRegionStartLength 5000 --afterRegionStartLength 5000 --binSize 50 --skipZeros --missingDataAsZero -o {outFile}.Ts.ENL.peak.gz -p 8'\n",
    "    print(line)\n",
    "    os.system(line)"
   ]
  },
  {
   "cell_type": "code",
   "execution_count": 48,
   "metadata": {},
   "outputs": [
    {
     "name": "stdout",
     "output_type": "stream",
     "text": [
      "1_2.Ts.ENL.peak.gz  293_T1_ENL.scale.gz   T1.bed\t       test.peak.pdf\r\n",
      "1_5.Ts.ENL.peak.gz  293_T1_ENL.scale.txt  name.Ts.ENL.peak.gz\r\n"
     ]
    }
   ],
   "source": [
    "!ls $outpath"
   ]
  },
  {
   "cell_type": "code",
   "execution_count": 55,
   "metadata": {},
   "outputs": [
    {
     "name": "stdout",
     "output_type": "stream",
     "text": [
      "plotHeatmap --sortUsingSamples 1 -m ./res_delta_heatmap/peak_center_no_flank_5k/1_2.Ts.ENL.peak.gz -out ./res_delta_heatmap/peak_center_no_flank_5k/1_2.peak.pdf --outFileNameMatrix ./res_delta_heatmap/peak_center_no_flank_5k/1_2.txt --colorMap Blues Blues Blues Blues Blues --dpi 300 --refPointLabel center --heatmapHeight 5\n",
      "plotHeatmap --sortUsingSamples 1 -m ./res_delta_heatmap/peak_center_no_flank_5k/1_5.Ts.ENL.peak.gz -out ./res_delta_heatmap/peak_center_no_flank_5k/1_5.peak.pdf --outFileNameMatrix ./res_delta_heatmap/peak_center_no_flank_5k/1_5.txt --colorMap Blues Blues Blues Blues Blues --dpi 300 --refPointLabel center --heatmapHeight 5\n"
     ]
    }
   ],
   "source": [
    "# plot the heatmap\n",
    "for name in names:\n",
    "    line = f'plotHeatmap --sortUsingSamples 1 -m {outpath}{name}.Ts.ENL.peak.gz -out {outpath}{name}.peak.pdf --outFileNameMatrix {outpath}{name}.txt --colorMap Blues Blues Blues Blues Blues --dpi 300 --refPointLabel center --heatmapHeight 5'\n",
    "    print(line)\n",
    "    os.system(line)"
   ]
  },
  {
   "cell_type": "code",
   "execution_count": 56,
   "metadata": {},
   "outputs": [
    {
     "data": {
      "text/html": [
       "<iframe src=./res_delta_heatmap/peak_center_no_flank_5k/1_5.peak.pdf width=200 height=200></iframe>"
      ],
      "text/latex": [
       "\\includegraphics[width=1.0\\textwidth]{./res_delta_heatmap/peak_center_no_flank_5k/1_5.peak.pdf}"
      ],
      "text/plain": [
       "<__main__.PDF at 0x2b0573e34d30>"
      ]
     },
     "execution_count": 56,
     "metadata": {},
     "output_type": "execute_result"
    }
   ],
   "source": [
    "PDF(f'{outpath}{name}.peak.pdf')"
   ]
  },
  {
   "cell_type": "markdown",
   "metadata": {},
   "source": [
    "# 2. Re-generate the delta heatmap with binsize 100\n"
   ]
  },
  {
   "cell_type": "markdown",
   "metadata": {},
   "source": [
    "## 2.1 Use computeMatrix to extract the binning signal for the corresponding bed file"
   ]
  },
  {
   "cell_type": "code",
   "execution_count": 58,
   "metadata": {
    "collapsed": true
   },
   "outputs": [
    {
     "name": "stdout",
     "output_type": "stream",
     "text": [
      "awk 'BEGIN{OFS=\"\\t\"}{if (NR > 1) print $1, $2, $3,NR-2,\".\", \"+\"}' ./res_avg_signal/293_T1_WT.merge.sig.anno.pval.txt > ./res_delta_heatmap/peak_center_no_flank_5k/T1.bed\n",
      "****\n",
      "computeMatrix reference-point --referencePoint center -b 5000 -a 5000 -bs 100 --missingDataAsZero -R ./res_delta_heatmap/peak_center_no_flank_5k/T1.bed -S /home/xc3/output/ENL2/ChIP/bw_nsp/293_F_T1_treat.nsp.bw /home/xc3/output/ENL2/ChIP/bw_nsp/293_F_ENL_treat.nsp.bw  --skipZeros -o ./res_delta_heatmap/peak_center_no_flank_5k/293_T1_ENL.scale.gz --outFileNameMatrix ./res_delta_heatmap/peak_center_no_flank_5k/293_T1_ENL.scale.txt \n",
      "\n",
      "\n",
      "awk 'BEGIN{OFS=\"\\t\"}{if (NR > 1) print $1, $2, $3,NR-2,\".\", \"+\"}' ./res_avg_signal/293_T2_WT.merge.sig.anno.pval.txt > ./res_delta_heatmap/peak_center_no_flank_5k/T2.bed\n",
      "****\n",
      "computeMatrix reference-point --referencePoint center -b 5000 -a 5000 -bs 100 --missingDataAsZero -R ./res_delta_heatmap/peak_center_no_flank_5k/T2.bed -S /home/xc3/output/ENL2/ChIP/bw_nsp/293_F_T2_treat.nsp.bw /home/xc3/output/ENL2/ChIP/bw_nsp/293_F_ENL_treat.nsp.bw  --skipZeros -o ./res_delta_heatmap/peak_center_no_flank_5k/293_T2_ENL.scale.gz --outFileNameMatrix ./res_delta_heatmap/peak_center_no_flank_5k/293_T2_ENL.scale.txt \n",
      "\n",
      "\n",
      "awk 'BEGIN{OFS=\"\\t\"}{if (NR > 1) print $1, $2, $3,NR-2,\".\", \"+\"}' ./res_avg_signal/293_T3_WT.merge.sig.anno.pval.txt > ./res_delta_heatmap/peak_center_no_flank_5k/T3.bed\n",
      "****\n",
      "computeMatrix reference-point --referencePoint center -b 5000 -a 5000 -bs 100 --missingDataAsZero -R ./res_delta_heatmap/peak_center_no_flank_5k/T3.bed -S /home/xc3/output/ENL2/ChIP/bw_nsp/293_F_T3_treat.nsp.bw /home/xc3/output/ENL2/ChIP/bw_nsp/293_F_ENL_treat.nsp.bw  --skipZeros -o ./res_delta_heatmap/peak_center_no_flank_5k/293_T3_ENL.scale.gz --outFileNameMatrix ./res_delta_heatmap/peak_center_no_flank_5k/293_T3_ENL.scale.txt \n",
      "\n",
      "\n",
      "awk 'BEGIN{OFS=\"\\t\"}{if (NR > 1) print $1, $2, $3,NR-2,\".\", \"+\"}' ./res_avg_signal/293_Y78A_WT.merge.sig.anno.pval.txt > ./res_delta_heatmap/peak_center_no_flank_5k/Y78A.bed\n",
      "****\n",
      "computeMatrix reference-point --referencePoint center -b 5000 -a 5000 -bs 100 --missingDataAsZero -R ./res_delta_heatmap/peak_center_no_flank_5k/Y78A.bed -S /home/xc3/output/ENL2/ChIP/bw_nsp/293_F_Y78A_treat.nsp.bw /home/xc3/output/ENL2/ChIP/bw_nsp/293_F_ENL_treat.nsp.bw  --skipZeros -o ./res_delta_heatmap/peak_center_no_flank_5k/293_Y78A_ENL.scale.gz --outFileNameMatrix ./res_delta_heatmap/peak_center_no_flank_5k/293_Y78A_ENL.scale.txt \n",
      "\n",
      "\n"
     ]
    }
   ],
   "source": [
    "for treat in treats:\n",
    "    #1. extract the first three columns as the bed file\n",
    "    sigfile = f'{sigpath}293_{treat}_WT.merge.sig.anno.pval.txt'\n",
    "    line = \"awk \\'BEGIN{OFS=\\\"\\\\t\\\"}{if (NR > 1) print $1, $2, $3,NR-2,\\\".\\\", \\\"+\\\"}\\'\" + f' {sigfile} > {outpath}{treat}.bed'\n",
    "    print(line + '\\n****')\n",
    "    os.system(line)\n",
    "    # 2. use the bed file to extract the binning signal (center -5k~5k)\n",
    "    bw_files = [\n",
    "            glob.glob(bwpath + exp + '*' + tmp + '*.bw')[0]\n",
    "            for tmp in [treat, ctrl]\n",
    "    ]\n",
    "    bw_files_format = len(bw_files) * \"{} \"\n",
    "    bw_files_format = bw_files_format.format(*bw_files)\n",
    "    bed_file_format = f'{outpath}{treat}.bed'\n",
    "    command = \"computeMatrix reference-point --referencePoint center -b 5000 -a 5000 -bs 100 --missingDataAsZero -R {0} -S {1} --skipZeros -o {2}.scale.gz --outFileNameMatrix {3}.scale.txt \".format(\n",
    "    bed_file_format, bw_files_format,\n",
    "    outpath + exp + '_' + treat + '_' + ctrl,\n",
    "    outpath + exp + '_' + treat + '_' + ctrl)\n",
    "    print(command + '\\n\\n')\n",
    "    os.system(command)\n",
    "    os.system(\n",
    "        'rm {}.scale.gz'.format(outpath + exp + '_' + treat + '_' + ctrl))  "
   ]
  },
  {
   "cell_type": "markdown",
   "metadata": {},
   "source": [
    "## 2.2 split the scale binning signal file to upper, lower, no diff\n",
    "scale file is the binning signal"
   ]
  },
  {
   "cell_type": "code",
   "execution_count": 59,
   "metadata": {},
   "outputs": [
    {
     "name": "stdout",
     "output_type": "stream",
     "text": [
      "preprocess on ./res_avg_signal/293_T1_WT.merge.sig.anno.pval.txt\n",
      "upper***\n",
      "\n",
      "lower***\n",
      "\n",
      "nodiff***\n",
      "\n",
      "preprocess on ./res_avg_signal/293_T2_WT.merge.sig.anno.pval.txt\n",
      "upper***\n",
      "\n",
      "lower***\n",
      "\n",
      "nodiff***\n",
      "\n",
      "preprocess on ./res_avg_signal/293_T3_WT.merge.sig.anno.pval.txt\n",
      "upper***\n",
      "\n",
      "lower***\n",
      "\n",
      "nodiff***\n",
      "\n",
      "preprocess on ./res_avg_signal/293_Y78A_WT.merge.sig.anno.pval.txt\n",
      "upper***\n",
      "\n",
      "lower***\n",
      "\n",
      "nodiff***\n",
      "\n"
     ]
    }
   ],
   "source": [
    "fc = 1.2\n",
    "for treat in treats:\n",
    "    sigfile = f'{sigpath}293_{treat}_WT.merge.sig.anno.pval.txt'\n",
    "    df = pd.read_csv(sigfile,sep='\\t',header=0)  \n",
    "    print('preprocess on {}'.format(sigfile))\n",
    "    exts = ['upper', 'lower', 'nodiff']\n",
    "    ind_up = df.iloc[:,4].div(df.iloc[:,5]) >= fc\n",
    "    ind_down = df.iloc[:,4].div(df.iloc[:,5]) <= (1.0/fc)\n",
    "    ind_no = (df.iloc[:,4].div(df.iloc[:,5]) > 1.0/fc) & (df.iloc[:,4].div(df.iloc[:,5]) < fc)\n",
    "    inds = [ind_up, ind_down, ind_no]\n",
    "    # the extracted binning file \n",
    "    scalefile = '{}.scale.txt'.format(outpath + exp + '_' + treat + '_' + ctrl)\n",
    "    df_scale = pd.read_csv(scalefile, sep='\\t', header=2)\n",
    "    # remove the first colname, which denotes how many peaks\n",
    "    colnames = df_scale.columns.values[1:]\n",
    "    df_scale = df_scale.iloc[:, :-1]\n",
    "    df_scale.columns = colnames\n",
    "    \n",
    "    for ind, ext in zip(inds, exts):\n",
    "        print(ext + '***\\n')\n",
    "        df_tmp = df[ind].copy()\n",
    "        treat_id = [\n",
    "            i for i, ele in enumerate(df_tmp.columns) if treat in ele\n",
    "        ][0]\n",
    "        df_tmp.sort_values(\n",
    "            by=df_tmp.columns[treat_id], inplace=True)  #4: treat\n",
    "        #3. split the df_tmp into three groups for treat and ctrl and delta\n",
    "        inds = df_tmp.index\n",
    "        #3.1 treat: # add 1\n",
    "        treat_id = [i for i, ele in enumerate(colnames) if treat in ele]\n",
    "        df_treat = df_scale.iloc[inds, treat_id]\n",
    "        df_treat.to_csv(\n",
    "            '{}_{}_{}.{}.heatmap.{}.txt'.format(outpath + exp, treat,\n",
    "                                                ctrl, ext, treat),\n",
    "            index=False)\n",
    "        #3.2 ctrl:\n",
    "        ctrl_id = [i for i, ele in enumerate(colnames) if ctrl in ele]\n",
    "        df_ctrl = df_scale.iloc[inds, ctrl_id]\n",
    "        df_ctrl.to_csv(\n",
    "            '{}_{}_{}.{}.heatmap.{}.txt'.format(outpath + exp, treat,\n",
    "                                                ctrl, ext, ctrl),\n",
    "            index=False)\n",
    "        #3.3 delta verified\n",
    "        df_delta = pd.DataFrame(df_treat.values - df_ctrl.values)\n",
    "        df_delta.to_csv(\n",
    "            '{}_{}_{}.{}.heatmap.{}.txt'.format(outpath + exp, treat,\n",
    "                                                ctrl, ext, 'delta'),\n",
    "            index=False)"
   ]
  },
  {
   "cell_type": "markdown",
   "metadata": {},
   "source": [
    "# 3. The delta heatmap for 1.2 coup peaks\n",
    "\n",
    "previous created delta heatmap by jiejun has wider signal spread\n",
    "Another reason is that when we plot the tss region, lots of genes shared the same region, so the color box is huge"
   ]
  },
  {
   "cell_type": "code",
   "execution_count": 60,
   "metadata": {},
   "outputs": [
    {
     "name": "stdout",
     "output_type": "stream",
     "text": [
      "/home/xc3/experiment/ENL2/Chip-seq_analysis/no_spike_in/re_do_mapping_with_lambda/res_heatmap_coup_peaks\r\n"
     ]
    }
   ],
   "source": [
    "workPath = '/home/xc3/experiment/ENL2/Chip-seq_analysis/no_spike_in/re_do_mapping_with_lambda/res_heatmap_coup_peaks/'\n",
    "os.chdir(workPath)\n",
    "!pwd"
   ]
  },
  {
   "cell_type": "code",
   "execution_count": 67,
   "metadata": {},
   "outputs": [
    {
     "name": "stdout",
     "output_type": "stream",
     "text": [
      "awk 'BEGIN{OFS=\"\\t\"}{if (NR>1){print $1,$2,$3,NR-2,\".\",\"+\"}}' 293.all.1_2.sig.anno.txt > 293.all.1_2.new.heat.bed\n"
     ]
    }
   ],
   "source": [
    "#format the bed file into the bed file add three columns more; \n",
    "names = ['1_2']\n",
    "for name in names:\n",
    "    Bed = f'293.all.{name}.sig.anno.txt'\n",
    "    outBed = f'293.all.{name}.new.heat.bed'\n",
    "    line = \"awk 'BEGIN{OFS=\\\"\\\\t\\\"}{if (NR>1){print $1,$2,$3,NR-2,\\\".\\\",\\\"+\\\"}}'\" + f' {Bed} > {outBed}'\n",
    "    print(line)\n",
    "    os.system(line)"
   ]
  },
  {
   "cell_type": "markdown",
   "metadata": {},
   "source": [
    "## for each pair sample extract the binning signal"
   ]
  },
  {
   "cell_type": "code",
   "execution_count": 92,
   "metadata": {},
   "outputs": [
    {
     "name": "stdout",
     "output_type": "stream",
     "text": [
      "/home/xc3/output/ENL2/ChIP/bw_nsp/293_F_T1_treat.nsp.bw\n",
      "~/software/deeptools/bin/computeMatrix reference-point --referencePoint center -S /home/xc3/output/ENL2/ChIP/bw_nsp/293_F_T1_treat.nsp.bw -R 293.all.1_2.new.heat.bed --beforeRegionStartLength 5000 --afterRegionStartLength 5000 --binSize 100 --skipZeros --missingDataAsZero -o PeakMatrix_293_F_T1_co-UP_genes.gz -p 8\n",
      "****\n",
      "\n",
      "/home/xc3/output/ENL2/ChIP/bw_nsp/293_F_T2_treat.nsp.bw\n",
      "~/software/deeptools/bin/computeMatrix reference-point --referencePoint center -S /home/xc3/output/ENL2/ChIP/bw_nsp/293_F_T2_treat.nsp.bw -R 293.all.1_2.new.heat.bed --beforeRegionStartLength 5000 --afterRegionStartLength 5000 --binSize 100 --skipZeros --missingDataAsZero -o PeakMatrix_293_F_T2_co-UP_genes.gz -p 8\n",
      "****\n",
      "\n",
      "/home/xc3/output/ENL2/ChIP/bw_nsp/293_F_T3_treat.nsp.bw\n",
      "~/software/deeptools/bin/computeMatrix reference-point --referencePoint center -S /home/xc3/output/ENL2/ChIP/bw_nsp/293_F_T3_treat.nsp.bw -R 293.all.1_2.new.heat.bed --beforeRegionStartLength 5000 --afterRegionStartLength 5000 --binSize 100 --skipZeros --missingDataAsZero -o PeakMatrix_293_F_T3_co-UP_genes.gz -p 8\n",
      "****\n",
      "\n",
      "/home/xc3/output/ENL2/ChIP/bw_nsp/293_F_Y78A_treat.nsp.bw\n",
      "~/software/deeptools/bin/computeMatrix reference-point --referencePoint center -S /home/xc3/output/ENL2/ChIP/bw_nsp/293_F_Y78A_treat.nsp.bw -R 293.all.1_2.new.heat.bed --beforeRegionStartLength 5000 --afterRegionStartLength 5000 --binSize 100 --skipZeros --missingDataAsZero -o PeakMatrix_293_F_Y78A_co-UP_genes.gz -p 8\n",
      "****\n",
      "\n",
      "/home/xc3/output/ENL2/ChIP/bw_nsp/293_F_ENL_treat.nsp.bw\n",
      "~/software/deeptools/bin/computeMatrix reference-point --referencePoint center -S /home/xc3/output/ENL2/ChIP/bw_nsp/293_F_ENL_treat.nsp.bw -R 293.all.1_2.new.heat.bed --beforeRegionStartLength 5000 --afterRegionStartLength 5000 --binSize 100 --skipZeros --missingDataAsZero -o PeakMatrix_293_F_ENL_co-UP_genes.gz -p 8\n",
      "****\n",
      "\n"
     ]
    }
   ],
   "source": [
    "samples = treats + [ctrl]\n",
    "for sample in samples:\n",
    "    bwfile = glob.glob(bwpath + exp + '*' + sample + '*.bw')[0]\n",
    "    outBed = \"293.all.1_2.new.heat.bed\"\n",
    "    print(bwfile)\n",
    "    line = f'~/software/deeptools/bin/computeMatrix reference-point --referencePoint center -S {bwfile} -R {outBed} --beforeRegionStartLength 5000 --afterRegionStartLength 5000 --binSize 100 --skipZeros --missingDataAsZero -o PeakMatrix_293_F_{sample}_co-UP_genes.gz -p 8'\n",
    "    print(line + '\\n****\\n')\n",
    "    os.system(line)"
   ]
  },
  {
   "cell_type": "code",
   "execution_count": 91,
   "metadata": {},
   "outputs": [
    {
     "name": "stdout",
     "output_type": "stream",
     "text": [
      "chr15\t96872571\t96885658\t0\t.\t+\n",
      "chr7\t5457629\t5470124\t1\t.\t+\n",
      "chr6\t1608510\t1616027\t2\t.\t+\n",
      "chr17\t79368489\t79375603\t3\t.\t+\n",
      "chr12\t12869276\t12879696\t4\t.\t+\n",
      "chr11\t65186288\t65204652\t5\t.\t+\n",
      "chr7\t27197889\t27240775\t6\t.\t+\n",
      "chr11\t65264641\t65277345\t7\t.\t+\n",
      "chr18\t19747704\t19753749\t8\t.\t+\n",
      "chr6\t32934633\t32953286\t9\t.\t+\n",
      "/home/xc3/experiment/ENL2/Chip-seq_analysis/no_spike_in/re_do_mapping_with_lambda/res_heatmap_coup_peaks\n"
     ]
    }
   ],
   "source": []
  },
  {
   "cell_type": "code",
   "execution_count": null,
   "metadata": {},
   "outputs": [],
   "source": []
  },
  {
   "cell_type": "code",
   "execution_count": null,
   "metadata": {},
   "outputs": [],
   "source": []
  },
  {
   "cell_type": "code",
   "execution_count": null,
   "metadata": {},
   "outputs": [],
   "source": []
  },
  {
   "cell_type": "code",
   "execution_count": null,
   "metadata": {},
   "outputs": [],
   "source": []
  },
  {
   "cell_type": "code",
   "execution_count": null,
   "metadata": {},
   "outputs": [],
   "source": []
  }
 ],
 "metadata": {
  "kernelspec": {
   "display_name": "Python 3",
   "language": "python",
   "name": "python3"
  },
  "language_info": {
   "codemirror_mode": {
    "name": "ipython",
    "version": 3
   },
   "file_extension": ".py",
   "mimetype": "text/x-python",
   "name": "python",
   "nbconvert_exporter": "python",
   "pygments_lexer": "ipython3",
   "version": "3.6.5"
  }
 },
 "nbformat": 4,
 "nbformat_minor": 2
}
