{
 "cells": [
  {
   "cell_type": "code",
   "execution_count": 8,
   "metadata": {},
   "outputs": [],
   "source": [
    "import pandas as pd\n",
    "import numpy as np\n",
    "import os\n",
    "import matplotlib as mlt\n",
    "import matplotlib.pyplot as plt\n",
    "import glob"
   ]
  },
  {
   "cell_type": "markdown",
   "metadata": {},
   "source": [
    "## From Hong\n",
    "We need to directly compare T1-Y78A with T1, so I suggested Xiaodong to use the following samples as a whole set: (1) ENL_B, (2) T1_C, (3) T1_Y78A, (4) T2_B, (5) T2_Y78A, (6) T3_B, (7) T3_Y78A, (8) Y78A_B and (9) vec_B_C. In this case, for comparing wild type ENL to different T mutants, we will have only one more batch of data in addition to batch A."
   ]
  },
  {
   "cell_type": "code",
   "execution_count": 15,
   "metadata": {},
   "outputs": [
    {
     "name": "stdout",
     "output_type": "stream",
     "text": [
      "Current working direcory:\n",
      "/home/xc3/experiment/ENL2/Chip-seq_analysis/no_spike_in/re_do_analysis_remove_nonspecific_peaks\n"
     ]
    }
   ],
   "source": [
    "%matplotlib inline\n",
    "# change the diretory\n",
    "!cd /home/xc3/experiment/ENL2/Chip-seq_analysis/second_batch/no_spike_in/\n",
    "path = !pwd\n",
    "print(f'Current working direcory:\\n{path[0]}')"
   ]
  },
  {
   "cell_type": "code",
   "execution_count": 3,
   "metadata": {},
   "outputs": [],
   "source": [
    "outpath = './analyze_merge_peaks_June1/'"
   ]
  },
  {
   "cell_type": "code",
   "execution_count": 10,
   "metadata": {},
   "outputs": [],
   "source": [
    "inpath = '/home/xc3/xc3/ENL2_ChIP/res_nsp/'\n",
    "bwpath = '/home/xc3/output/ENL2/ChIP/bw_nsp/'"
   ]
  },
  {
   "cell_type": "code",
   "execution_count": 12,
   "metadata": {},
   "outputs": [],
   "source": [
    "exps = ['HK2']\n",
    "treats = ['T1', 'T2', 'T3','ENL','Y78A']\n",
    "\n",
    "#test \n",
    "exp = exps[0]\n",
    "treat = treats[1]\n"
   ]
  },
  {
   "cell_type": "code",
   "execution_count": 13,
   "metadata": {},
   "outputs": [
    {
     "name": "stdout",
     "output_type": "stream",
     "text": [
      "treat: /home/xc3/xc3/ENL2_ChIP/res_nsp/HK2_F_T1.nsp_peaks.bed\n",
      "treat: /home/xc3/xc3/ENL2_ChIP/res_nsp/HK2_F_T2.nsp_peaks.bed\n",
      "treat: /home/xc3/xc3/ENL2_ChIP/res_nsp/HK2_F_T3.nsp_peaks.bed\n",
      "treat: /home/xc3/xc3/ENL2_ChIP/res_nsp/HK2_F_ENL.nsp_peaks.bed\n",
      "treat: /home/xc3/xc3/ENL2_ChIP/res_nsp/HK2_F_Y78A.nsp_peaks.bed\n"
     ]
    }
   ],
   "source": [
    "for exp in exps:\n",
    "\tfor treat in treats:\n",
    "\t\ttreat_bed = glob.glob(inpath+exp+'*'+treat+'*peaks.bed')[0]\n",
    "\t\tprint('treat: {}'.format(treat_bed))"
   ]
  },
  {
   "cell_type": "code",
   "execution_count": 14,
   "metadata": {},
   "outputs": [
    {
     "name": "stdout",
     "output_type": "stream",
     "text": [
      "chr1\t569430\t570459\tMACS_peak_1\t272.78\r\n",
      "chr1\t858990\t861360\tMACS_peak_2\t1522.31\r\n",
      "chr1\t875533\t878614\tMACS_peak_3\t783.23\r\n",
      "chr1\t895848\t896538\tMACS_peak_4\t87.93\r\n",
      "chr1\t932938\t937442\tMACS_peak_5\t2114.75\r\n",
      "chr1\t1242950\t1243652\tMACS_peak_6\t97.39\r\n",
      "chr1\t1244014\t1244755\tMACS_peak_7\t91.39\r\n",
      "chr1\t1551263\t1551851\tMACS_peak_8\t81.07\r\n",
      "chr1\t1709160\t1709978\tMACS_peak_9\t137.15\r\n",
      "chr1\t1821128\t1822703\tMACS_peak_10\t732.51\r\n"
     ]
    }
   ],
   "source": [
    "!head /home/xc3/xc3/ENL2_ChIP/res_nsp/293_F_T1.nsp_peaks.bed"
   ]
  },
  {
   "cell_type": "code",
   "execution_count": null,
   "metadata": {},
   "outputs": [],
   "source": []
  }
 ],
 "metadata": {
  "kernelspec": {
   "display_name": "Python 3",
   "language": "python",
   "name": "python3"
  },
  "language_info": {
   "codemirror_mode": {
    "name": "ipython",
    "version": 3
   },
   "file_extension": ".py",
   "mimetype": "text/x-python",
   "name": "python",
   "nbconvert_exporter": "python",
   "pygments_lexer": "ipython3",
   "version": "3.6.5"
  }
 },
 "nbformat": 4,
 "nbformat_minor": 2
}
